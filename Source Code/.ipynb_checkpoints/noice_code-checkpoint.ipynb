{
 "cells": [
  {
   "cell_type": "code",
   "execution_count": 2,
   "metadata": {
    "colab": {
     "base_uri": "https://localhost:8080/"
    },
    "executionInfo": {
     "elapsed": 3576,
     "status": "ok",
     "timestamp": 1649269906146,
     "user": {
      "displayName": "Aniketh Professional",
      "userId": "18283959475499289192"
     },
     "user_tz": -330
    },
    "id": "AjyhpBiT8RE2",
    "outputId": "2b159d17-bb2e-4dfa-8199-25754e56134d"
   },
   "outputs": [],
   "source": [
    "import pandas as pd\n",
    "# from google.colab import drive\n",
    "# drive.mount('/content/drive')"
   ]
  },
  {
   "cell_type": "code",
   "execution_count": 3,
   "metadata": {
    "executionInfo": {
     "elapsed": 2,
     "status": "ok",
     "timestamp": 1649269906146,
     "user": {
      "displayName": "Aniketh Professional",
      "userId": "18283959475499289192"
     },
     "user_tz": -330
    },
    "id": "RukI1PBb8Vhl"
   },
   "outputs": [],
   "source": [
    "path = \"amazon_reviews_2.txt\""
   ]
  },
  {
   "cell_type": "code",
   "execution_count": 4,
   "metadata": {
    "executionInfo": {
     "elapsed": 686,
     "status": "ok",
     "timestamp": 1649269906830,
     "user": {
      "displayName": "Aniketh Professional",
      "userId": "18283959475499289192"
     },
     "user_tz": -330
    },
    "id": "0UVa8eRS8i03"
   },
   "outputs": [],
   "source": [
    "import pandas as pd\n",
    "import numpy as np\n",
    "# !pip install matplotlib\n",
    "import matplotlib.pyplot as plt\n",
    "# import seaborn as sns\n",
    "# color = sns.color_palette()\n",
    "%matplotlib inline"
   ]
  },
  {
   "cell_type": "code",
   "execution_count": 5,
   "metadata": {
    "executionInfo": {
     "elapsed": 10,
     "status": "ok",
     "timestamp": 1649269906830,
     "user": {
      "displayName": "Aniketh Professional",
      "userId": "18283959475499289192"
     },
     "user_tz": -330
    },
    "id": "_JUWNme08oIx"
   },
   "outputs": [],
   "source": [
    "data = pd.read_csv(path, delimiter=\"\\t\")"
   ]
  },
  {
   "cell_type": "code",
   "execution_count": 6,
   "metadata": {
    "colab": {
     "base_uri": "https://localhost:8080/"
    },
    "executionInfo": {
     "elapsed": 11,
     "status": "ok",
     "timestamp": 1649269906831,
     "user": {
      "displayName": "Aniketh Professional",
      "userId": "18283959475499289192"
     },
     "user_tz": -330
    },
    "id": "Tv6GZuqR8y2O",
    "outputId": "2345da9f-37fb-4480-f7ce-9418f6095d1a"
   },
   "outputs": [
    {
     "data": {
      "text/html": [
       "<div>\n",
       "<style scoped>\n",
       "    .dataframe tbody tr th:only-of-type {\n",
       "        vertical-align: middle;\n",
       "    }\n",
       "\n",
       "    .dataframe tbody tr th {\n",
       "        vertical-align: top;\n",
       "    }\n",
       "\n",
       "    .dataframe thead th {\n",
       "        text-align: right;\n",
       "    }\n",
       "</style>\n",
       "<table border=\"1\" class=\"dataframe\">\n",
       "  <thead>\n",
       "    <tr style=\"text-align: right;\">\n",
       "      <th></th>\n",
       "      <th>DOC_ID</th>\n",
       "      <th>LABEL</th>\n",
       "      <th>RATING</th>\n",
       "      <th>VERIFIED_PURCHASE</th>\n",
       "      <th>PRODUCT_CATEGORY</th>\n",
       "      <th>PRODUCT_ID</th>\n",
       "      <th>PRODUCT_TITLE</th>\n",
       "      <th>REVIEW_TITLE</th>\n",
       "      <th>REVIEW_TEXT</th>\n",
       "    </tr>\n",
       "  </thead>\n",
       "  <tbody>\n",
       "    <tr>\n",
       "      <th>0</th>\n",
       "      <td>1</td>\n",
       "      <td>__label1__</td>\n",
       "      <td>4</td>\n",
       "      <td>N</td>\n",
       "      <td>PC</td>\n",
       "      <td>B00008NG7N</td>\n",
       "      <td>Targus PAUK10U Ultra Mini USB Keypad, Black</td>\n",
       "      <td>useful</td>\n",
       "      <td>When least you think so, this product will sav...</td>\n",
       "    </tr>\n",
       "    <tr>\n",
       "      <th>1</th>\n",
       "      <td>2</td>\n",
       "      <td>__label1__</td>\n",
       "      <td>4</td>\n",
       "      <td>Y</td>\n",
       "      <td>Wireless</td>\n",
       "      <td>B00LH0Y3NM</td>\n",
       "      <td>Note 3 Battery : Stalion Strength Replacement ...</td>\n",
       "      <td>New era for batteries</td>\n",
       "      <td>Lithium batteries are something new introduced...</td>\n",
       "    </tr>\n",
       "    <tr>\n",
       "      <th>2</th>\n",
       "      <td>3</td>\n",
       "      <td>__label1__</td>\n",
       "      <td>3</td>\n",
       "      <td>N</td>\n",
       "      <td>Baby</td>\n",
       "      <td>B000I5UZ1Q</td>\n",
       "      <td>Fisher-Price Papasan Cradle Swing, Starlight</td>\n",
       "      <td>doesn't swing very well.</td>\n",
       "      <td>I purchased this swing for my baby. She is 6 m...</td>\n",
       "    </tr>\n",
       "    <tr>\n",
       "      <th>3</th>\n",
       "      <td>4</td>\n",
       "      <td>__label1__</td>\n",
       "      <td>4</td>\n",
       "      <td>N</td>\n",
       "      <td>Office Products</td>\n",
       "      <td>B003822IRA</td>\n",
       "      <td>Casio MS-80B Standard Function Desktop Calculator</td>\n",
       "      <td>Great computing!</td>\n",
       "      <td>I was looking for an inexpensive desk calcolat...</td>\n",
       "    </tr>\n",
       "    <tr>\n",
       "      <th>4</th>\n",
       "      <td>5</td>\n",
       "      <td>__label1__</td>\n",
       "      <td>4</td>\n",
       "      <td>N</td>\n",
       "      <td>Beauty</td>\n",
       "      <td>B00PWSAXAM</td>\n",
       "      <td>Shine Whitening - Zero Peroxide Teeth Whitenin...</td>\n",
       "      <td>Only use twice a week</td>\n",
       "      <td>I only use it twice a week and the results are...</td>\n",
       "    </tr>\n",
       "    <tr>\n",
       "      <th>5</th>\n",
       "      <td>6</td>\n",
       "      <td>__label1__</td>\n",
       "      <td>3</td>\n",
       "      <td>N</td>\n",
       "      <td>Health &amp; Personal Care</td>\n",
       "      <td>B00686HNUK</td>\n",
       "      <td>Tobacco Pipe Stand - Fold-away Portable - Ligh...</td>\n",
       "      <td>not sure</td>\n",
       "      <td>I'm not sure what this is supposed to be but I...</td>\n",
       "    </tr>\n",
       "    <tr>\n",
       "      <th>6</th>\n",
       "      <td>7</td>\n",
       "      <td>__label1__</td>\n",
       "      <td>4</td>\n",
       "      <td>N</td>\n",
       "      <td>Toys</td>\n",
       "      <td>B00NUG865W</td>\n",
       "      <td>ESPN 2-Piece Table Tennis</td>\n",
       "      <td>PING PONG TABLE GREAT FOR YOUTHS AND FAMILY</td>\n",
       "      <td>Pleased with ping pong table. 11 year old and ...</td>\n",
       "    </tr>\n",
       "    <tr>\n",
       "      <th>7</th>\n",
       "      <td>8</td>\n",
       "      <td>__label1__</td>\n",
       "      <td>4</td>\n",
       "      <td>Y</td>\n",
       "      <td>Beauty</td>\n",
       "      <td>B00QUL8VX6</td>\n",
       "      <td>Abundant Health 25% Vitamin C Serum with Vitam...</td>\n",
       "      <td>Great vitamin C serum</td>\n",
       "      <td>Great vitamin C serum... I really like the oil...</td>\n",
       "    </tr>\n",
       "    <tr>\n",
       "      <th>8</th>\n",
       "      <td>9</td>\n",
       "      <td>__label1__</td>\n",
       "      <td>4</td>\n",
       "      <td>N</td>\n",
       "      <td>Health &amp; Personal Care</td>\n",
       "      <td>B004YHKVCM</td>\n",
       "      <td>PODS Spring Meadow HE Turbo Laundry Detergent ...</td>\n",
       "      <td>wonderful detergent.</td>\n",
       "      <td>I've used tide pods laundry detergent for many...</td>\n",
       "    </tr>\n",
       "    <tr>\n",
       "      <th>9</th>\n",
       "      <td>10</td>\n",
       "      <td>__label1__</td>\n",
       "      <td>1</td>\n",
       "      <td>N</td>\n",
       "      <td>Health &amp; Personal Care</td>\n",
       "      <td>B00H4IBD0M</td>\n",
       "      <td>Sheer TEST, Best Testosterone Booster Suppleme...</td>\n",
       "      <td>WARNING: do not waste your money on this</td>\n",
       "      <td>Everybody wants to fall for their promises. Bu...</td>\n",
       "    </tr>\n",
       "    <tr>\n",
       "      <th>10</th>\n",
       "      <td>11</td>\n",
       "      <td>__label1__</td>\n",
       "      <td>1</td>\n",
       "      <td>N</td>\n",
       "      <td>Health &amp; Personal Care</td>\n",
       "      <td>B00VQNLQL2</td>\n",
       "      <td>#1 Most Potent Male Performance Enhancement Su...</td>\n",
       "      <td>Unfortunately they didn't work for me.</td>\n",
       "      <td>Unfortunately they didn't work for me. They ma...</td>\n",
       "    </tr>\n",
       "    <tr>\n",
       "      <th>11</th>\n",
       "      <td>12</td>\n",
       "      <td>__label1__</td>\n",
       "      <td>4</td>\n",
       "      <td>N</td>\n",
       "      <td>Kitchen</td>\n",
       "      <td>B00IWOJS9A</td>\n",
       "      <td>Proctor Silex K2070YA Electric Kettle, 1-Liter</td>\n",
       "      <td>She said that it is easy to use</td>\n",
       "      <td>This kettle is a gift for my daughter. She sai...</td>\n",
       "    </tr>\n",
       "    <tr>\n",
       "      <th>12</th>\n",
       "      <td>13</td>\n",
       "      <td>__label1__</td>\n",
       "      <td>4</td>\n",
       "      <td>N</td>\n",
       "      <td>Kitchen</td>\n",
       "      <td>B00JEGSZCQ</td>\n",
       "      <td>Stainless Steel Tumbler with Straw- Hot and Co...</td>\n",
       "      <td>Works great</td>\n",
       "      <td>I love this tumbler! Keeps drinks warm or cold...</td>\n",
       "    </tr>\n",
       "    <tr>\n",
       "      <th>13</th>\n",
       "      <td>14</td>\n",
       "      <td>__label1__</td>\n",
       "      <td>4</td>\n",
       "      <td>N</td>\n",
       "      <td>Health &amp; Personal Care</td>\n",
       "      <td>B000TD0PXU</td>\n",
       "      <td>Now Foods Mood Support With St Johns Wort Veg-...</td>\n",
       "      <td>Just OK</td>\n",
       "      <td>Only giving this 3 stars because it is so chea...</td>\n",
       "    </tr>\n",
       "    <tr>\n",
       "      <th>14</th>\n",
       "      <td>15</td>\n",
       "      <td>__label1__</td>\n",
       "      <td>4</td>\n",
       "      <td>N</td>\n",
       "      <td>Furniture</td>\n",
       "      <td>B0019QITHK</td>\n",
       "      <td>Boss Caressoft Medical Stool, black</td>\n",
       "      <td>Color Is Accurate</td>\n",
       "      <td>I bought 2 of these in brown for my island. Th...</td>\n",
       "    </tr>\n",
       "    <tr>\n",
       "      <th>15</th>\n",
       "      <td>16</td>\n",
       "      <td>__label1__</td>\n",
       "      <td>4</td>\n",
       "      <td>N</td>\n",
       "      <td>Electronics</td>\n",
       "      <td>B004WODP20</td>\n",
       "      <td>Sony MDRZX100  ZX Series Stereo Headphones (Bl...</td>\n",
       "      <td>Price is right!</td>\n",
       "      <td>wonderful headphones had them now for 5 months...</td>\n",
       "    </tr>\n",
       "    <tr>\n",
       "      <th>16</th>\n",
       "      <td>17</td>\n",
       "      <td>__label1__</td>\n",
       "      <td>4</td>\n",
       "      <td>Y</td>\n",
       "      <td>Camera</td>\n",
       "      <td>B00E56WY18</td>\n",
       "      <td>Falcon Zero F360 HD DVR Dual Dash Cam, Rear Vi...</td>\n",
       "      <td>Good design, but a recommendation</td>\n",
       "      <td>Video quality if superb, fits just fine, looks...</td>\n",
       "    </tr>\n",
       "    <tr>\n",
       "      <th>17</th>\n",
       "      <td>18</td>\n",
       "      <td>__label1__</td>\n",
       "      <td>4</td>\n",
       "      <td>N</td>\n",
       "      <td>Sports</td>\n",
       "      <td>B000HE8NK8</td>\n",
       "      <td>Barnett Diablo Slingshot</td>\n",
       "      <td>good enough</td>\n",
       "      <td>As sling shots go, this is good enough for my ...</td>\n",
       "    </tr>\n",
       "    <tr>\n",
       "      <th>18</th>\n",
       "      <td>19</td>\n",
       "      <td>__label1__</td>\n",
       "      <td>4</td>\n",
       "      <td>Y</td>\n",
       "      <td>Kitchen</td>\n",
       "      <td>B00FJKEGRY</td>\n",
       "      <td>Cuisavour's Deluxe Spiral Slicer with Japanese...</td>\n",
       "      <td>I just wish that there were guides and manuals...</td>\n",
       "      <td>just to be fair, i really believe that this is...</td>\n",
       "    </tr>\n",
       "    <tr>\n",
       "      <th>19</th>\n",
       "      <td>20</td>\n",
       "      <td>__label1__</td>\n",
       "      <td>4</td>\n",
       "      <td>Y</td>\n",
       "      <td>Health &amp; Personal Care</td>\n",
       "      <td>B00KNXIDH6</td>\n",
       "      <td>100 Tablet CleanGuard Nightguard Cleaner</td>\n",
       "      <td>and he was satisfied with this</td>\n",
       "      <td>These tablets are especially helpful if you us...</td>\n",
       "    </tr>\n",
       "  </tbody>\n",
       "</table>\n",
       "</div>"
      ],
      "text/plain": [
       "    DOC_ID       LABEL  RATING VERIFIED_PURCHASE        PRODUCT_CATEGORY  \\\n",
       "0        1  __label1__       4                 N                      PC   \n",
       "1        2  __label1__       4                 Y                Wireless   \n",
       "2        3  __label1__       3                 N                    Baby   \n",
       "3        4  __label1__       4                 N         Office Products   \n",
       "4        5  __label1__       4                 N                  Beauty   \n",
       "5        6  __label1__       3                 N  Health & Personal Care   \n",
       "6        7  __label1__       4                 N                    Toys   \n",
       "7        8  __label1__       4                 Y                  Beauty   \n",
       "8        9  __label1__       4                 N  Health & Personal Care   \n",
       "9       10  __label1__       1                 N  Health & Personal Care   \n",
       "10      11  __label1__       1                 N  Health & Personal Care   \n",
       "11      12  __label1__       4                 N                 Kitchen   \n",
       "12      13  __label1__       4                 N                 Kitchen   \n",
       "13      14  __label1__       4                 N  Health & Personal Care   \n",
       "14      15  __label1__       4                 N               Furniture   \n",
       "15      16  __label1__       4                 N             Electronics   \n",
       "16      17  __label1__       4                 Y                  Camera   \n",
       "17      18  __label1__       4                 N                  Sports   \n",
       "18      19  __label1__       4                 Y                 Kitchen   \n",
       "19      20  __label1__       4                 Y  Health & Personal Care   \n",
       "\n",
       "    PRODUCT_ID                                      PRODUCT_TITLE  \\\n",
       "0   B00008NG7N        Targus PAUK10U Ultra Mini USB Keypad, Black   \n",
       "1   B00LH0Y3NM  Note 3 Battery : Stalion Strength Replacement ...   \n",
       "2   B000I5UZ1Q       Fisher-Price Papasan Cradle Swing, Starlight   \n",
       "3   B003822IRA  Casio MS-80B Standard Function Desktop Calculator   \n",
       "4   B00PWSAXAM  Shine Whitening - Zero Peroxide Teeth Whitenin...   \n",
       "5   B00686HNUK  Tobacco Pipe Stand - Fold-away Portable - Ligh...   \n",
       "6   B00NUG865W                          ESPN 2-Piece Table Tennis   \n",
       "7   B00QUL8VX6  Abundant Health 25% Vitamin C Serum with Vitam...   \n",
       "8   B004YHKVCM  PODS Spring Meadow HE Turbo Laundry Detergent ...   \n",
       "9   B00H4IBD0M  Sheer TEST, Best Testosterone Booster Suppleme...   \n",
       "10  B00VQNLQL2  #1 Most Potent Male Performance Enhancement Su...   \n",
       "11  B00IWOJS9A     Proctor Silex K2070YA Electric Kettle, 1-Liter   \n",
       "12  B00JEGSZCQ  Stainless Steel Tumbler with Straw- Hot and Co...   \n",
       "13  B000TD0PXU  Now Foods Mood Support With St Johns Wort Veg-...   \n",
       "14  B0019QITHK                Boss Caressoft Medical Stool, black   \n",
       "15  B004WODP20  Sony MDRZX100  ZX Series Stereo Headphones (Bl...   \n",
       "16  B00E56WY18  Falcon Zero F360 HD DVR Dual Dash Cam, Rear Vi...   \n",
       "17  B000HE8NK8                           Barnett Diablo Slingshot   \n",
       "18  B00FJKEGRY  Cuisavour's Deluxe Spiral Slicer with Japanese...   \n",
       "19  B00KNXIDH6           100 Tablet CleanGuard Nightguard Cleaner   \n",
       "\n",
       "                                         REVIEW_TITLE  \\\n",
       "0                                              useful   \n",
       "1                               New era for batteries   \n",
       "2                            doesn't swing very well.   \n",
       "3                                    Great computing!   \n",
       "4                               Only use twice a week   \n",
       "5                                            not sure   \n",
       "6         PING PONG TABLE GREAT FOR YOUTHS AND FAMILY   \n",
       "7                               Great vitamin C serum   \n",
       "8                                wonderful detergent.   \n",
       "9            WARNING: do not waste your money on this   \n",
       "10             Unfortunately they didn't work for me.   \n",
       "11                    She said that it is easy to use   \n",
       "12                                        Works great   \n",
       "13                                            Just OK   \n",
       "14                                  Color Is Accurate   \n",
       "15                                    Price is right!   \n",
       "16                  Good design, but a recommendation   \n",
       "17                                        good enough   \n",
       "18  I just wish that there were guides and manuals...   \n",
       "19                     and he was satisfied with this   \n",
       "\n",
       "                                          REVIEW_TEXT  \n",
       "0   When least you think so, this product will sav...  \n",
       "1   Lithium batteries are something new introduced...  \n",
       "2   I purchased this swing for my baby. She is 6 m...  \n",
       "3   I was looking for an inexpensive desk calcolat...  \n",
       "4   I only use it twice a week and the results are...  \n",
       "5   I'm not sure what this is supposed to be but I...  \n",
       "6   Pleased with ping pong table. 11 year old and ...  \n",
       "7   Great vitamin C serum... I really like the oil...  \n",
       "8   I've used tide pods laundry detergent for many...  \n",
       "9   Everybody wants to fall for their promises. Bu...  \n",
       "10  Unfortunately they didn't work for me. They ma...  \n",
       "11  This kettle is a gift for my daughter. She sai...  \n",
       "12  I love this tumbler! Keeps drinks warm or cold...  \n",
       "13  Only giving this 3 stars because it is so chea...  \n",
       "14  I bought 2 of these in brown for my island. Th...  \n",
       "15  wonderful headphones had them now for 5 months...  \n",
       "16  Video quality if superb, fits just fine, looks...  \n",
       "17  As sling shots go, this is good enough for my ...  \n",
       "18  just to be fair, i really believe that this is...  \n",
       "19  These tablets are especially helpful if you us...  "
      ]
     },
     "execution_count": 6,
     "metadata": {},
     "output_type": "execute_result"
    }
   ],
   "source": [
    "data.head()\n",
    "data.columns\n",
    "data[:20]"
   ]
  },
  {
   "cell_type": "code",
   "execution_count": 7,
   "metadata": {
    "executionInfo": {
     "elapsed": 9,
     "status": "ok",
     "timestamp": 1649269906831,
     "user": {
      "displayName": "Aniketh Professional",
      "userId": "18283959475499289192"
     },
     "user_tz": -330
    },
    "id": "aGxPht3189jY"
   },
   "outputs": [],
   "source": [
    "data.loc[data[\"LABEL\"] == \"__label1__\", \"LABEL\"] = '1'\n",
    "data.loc[data[\"LABEL\"] == \"__label2__\", \"LABEL\"] = '0'"
   ]
  },
  {
   "cell_type": "code",
   "execution_count": 8,
   "metadata": {
    "executionInfo": {
     "elapsed": 9,
     "status": "ok",
     "timestamp": 1649269906831,
     "user": {
      "displayName": "Aniketh Professional",
      "userId": "18283959475499289192"
     },
     "user_tz": -330
    },
    "id": "7U9HThX68__P"
   },
   "outputs": [],
   "source": [
    "# data.head()"
   ]
  },
  {
   "cell_type": "code",
   "execution_count": 9,
   "metadata": {
    "colab": {
     "base_uri": "https://localhost:8080/"
    },
    "executionInfo": {
     "elapsed": 9,
     "status": "ok",
     "timestamp": 1649269906831,
     "user": {
      "displayName": "Aniketh Professional",
      "userId": "18283959475499289192"
     },
     "user_tz": -330
    },
    "id": "gS0Zv9-e9CsU",
    "outputId": "94a0d3e8-19ad-4aab-e57b-043a493f2dee"
   },
   "outputs": [
    {
     "data": {
      "text/plain": [
       "9726"
      ]
     },
     "execution_count": 9,
     "metadata": {},
     "output_type": "execute_result"
    }
   ],
   "source": [
    "len(data)"
   ]
  },
  {
   "cell_type": "code",
   "execution_count": 10,
   "metadata": {
    "colab": {
     "base_uri": "https://localhost:8080/"
    },
    "executionInfo": {
     "elapsed": 7,
     "status": "ok",
     "timestamp": 1649269906831,
     "user": {
      "displayName": "Aniketh Professional",
      "userId": "18283959475499289192"
     },
     "user_tz": -330
    },
    "id": "73U0Ix5C9GMy",
    "outputId": "591696d6-a228-423d-b638-7fedb5a8cf7f"
   },
   "outputs": [],
   "source": [
    "cnt_srs=data.groupby(data[\"LABEL\"]).PRODUCT_CATEGORY.value_counts()\n",
    "# cnt_srs"
   ]
  },
  {
   "cell_type": "code",
   "execution_count": 11,
   "metadata": {
    "executionInfo": {
     "elapsed": 6,
     "status": "ok",
     "timestamp": 1649269906831,
     "user": {
      "displayName": "Aniketh Professional",
      "userId": "18283959475499289192"
     },
     "user_tz": -330
    },
    "id": "9Ip6gGjW9OxP"
   },
   "outputs": [],
   "source": [
    "# plt.figure(figsize=(16,8))\n",
    "# sns.barplot(cnt_srs.values, cnt_srs.index, alpha=0.8, color=color[1])\n",
    "# plt.ylabel('Number of Occurrences', fontsize=16)\n",
    "# plt.xlabel('(Label, Product Category)', fontsize=16)\n",
    "# plt.title('Label Vs Product Category', fontsize=18)\n",
    "# plt.xticks(rotation='vertical')\n",
    "# plt.show()"
   ]
  },
  {
   "cell_type": "code",
   "execution_count": 12,
   "metadata": {
    "executionInfo": {
     "elapsed": 7,
     "status": "ok",
     "timestamp": 1649269906832,
     "user": {
      "displayName": "Aniketh Professional",
      "userId": "18283959475499289192"
     },
     "user_tz": -330
    },
    "id": "A6lH0hw7-bRI"
   },
   "outputs": [],
   "source": [
    "# cnt_srs = data.groupby(data[\"LABEL\"]).RATING.value_counts()\n",
    "# cnt_srs\n",
    "# plt.figure(figsize=(16,8))\n",
    "# sns.barplot(cnt_srs.index, cnt_srs.values, alpha=0.8, color=color[1])\n",
    "# plt.ylabel('Number of Occurrences', fontsize=16)\n",
    "# plt.xlabel('(Label, Rating)', fontsize=16)\n",
    "# plt.title('Label Vs Rating', fontsize=18)\n",
    "# plt.xticks(rotation='horizontal')\n",
    "# plt.show()"
   ]
  },
  {
   "cell_type": "code",
   "execution_count": 13,
   "metadata": {
    "colab": {
     "base_uri": "https://localhost:8080/"
    },
    "executionInfo": {
     "elapsed": 7,
     "status": "ok",
     "timestamp": 1649269906832,
     "user": {
      "displayName": "Aniketh Professional",
      "userId": "18283959475499289192"
     },
     "user_tz": -330
    },
    "id": "12aGKqCFBNyx",
    "outputId": "c75313a1-f2d1-4d4e-c63c-ae9a33fd87fe"
   },
   "outputs": [
    {
     "name": "stdout",
     "output_type": "stream",
     "text": [
      "<pandas.core.groupby.generic.SeriesGroupBy object at 0x000002C9716000D0>\n"
     ]
    },
    {
     "data": {
      "text/plain": [
       "0        116\n",
       "1        404\n",
       "2        248\n",
       "3        212\n",
       "4        331\n",
       "        ... \n",
       "9721     227\n",
       "9722     180\n",
       "9723    1849\n",
       "9724     187\n",
       "9725     554\n",
       "Name: TEXT_LENGTH, Length: 9726, dtype: int64"
      ]
     },
     "execution_count": 13,
     "metadata": {},
     "output_type": "execute_result"
    }
   ],
   "source": [
    "df1 = data.groupby(\"LABEL\").REVIEW_TEXT\n",
    "print(df1)\n",
    "data[\"TEXT_LENGTH\"] = data['REVIEW_TEXT'].apply(len)\n",
    "data.columns\n",
    "data['TEXT_LENGTH']"
   ]
  },
  {
   "cell_type": "code",
   "execution_count": 14,
   "metadata": {
    "colab": {
     "base_uri": "https://localhost:8080/"
    },
    "executionInfo": {
     "elapsed": 6,
     "status": "ok",
     "timestamp": 1649269906832,
     "user": {
      "displayName": "Aniketh Professional",
      "userId": "18283959475499289192"
     },
     "user_tz": -330
    },
    "id": "M2VUzFdLB0Hl",
    "outputId": "9a234802-476f-4726-9815-bb2f636814e7"
   },
   "outputs": [
    {
     "data": {
      "text/plain": [
       "LABEL\n",
       "1    313.780485\n",
       "Name: TEXT_LENGTH, dtype: float64"
      ]
     },
     "execution_count": 14,
     "metadata": {},
     "output_type": "execute_result"
    }
   ],
   "source": [
    "#average length of labelled data\n",
    "cnt_srs = data.groupby([\"LABEL\"]).TEXT_LENGTH.agg(lambda x: sum(x)/len(x))\n",
    "cnt_srs"
   ]
  },
  {
   "cell_type": "code",
   "execution_count": 15,
   "metadata": {
    "colab": {
     "base_uri": "https://localhost:8080/"
    },
    "executionInfo": {
     "elapsed": 5,
     "status": "ok",
     "timestamp": 1649269906832,
     "user": {
      "displayName": "Aniketh Professional",
      "userId": "18283959475499289192"
     },
     "user_tz": -330
    },
    "id": "j9mfbCgoCZC0",
    "outputId": "266be89d-83bd-47a0-e1d4-842d1d1a8d46"
   },
   "outputs": [
    {
     "data": {
      "text/plain": [
       "0        3\n",
       "1        4\n",
       "2        6\n",
       "3        5\n",
       "4        4\n",
       "        ..\n",
       "9721     2\n",
       "9722     3\n",
       "9723    31\n",
       "9724     4\n",
       "9725     6\n",
       "Name: num_sentences, Length: 9726, dtype: int64"
      ]
     },
     "execution_count": 15,
     "metadata": {},
     "output_type": "execute_result"
    }
   ],
   "source": [
    "#total number of sentences\n",
    "data['num_sentences'] = data['REVIEW_TEXT'].apply(lambda x: len(str(x).split('.')))\n",
    "data['num_sentences']"
   ]
  },
  {
   "cell_type": "code",
   "execution_count": 16,
   "metadata": {
    "colab": {
     "base_uri": "https://localhost:8080/"
    },
    "executionInfo": {
     "elapsed": 4654,
     "status": "ok",
     "timestamp": 1649269911482,
     "user": {
      "displayName": "Aniketh Professional",
      "userId": "18283959475499289192"
     },
     "user_tz": -330
    },
    "id": "KPHANfHVC-Wa",
    "outputId": "d9204976-77d6-4507-9b04-00127408a40b"
   },
   "outputs": [],
   "source": [
    "# !pip install textstat\n",
    "import textstat"
   ]
  },
  {
   "cell_type": "code",
   "execution_count": 17,
   "metadata": {
    "executionInfo": {
     "elapsed": 8382,
     "status": "ok",
     "timestamp": 1649269919857,
     "user": {
      "displayName": "Aniketh Professional",
      "userId": "18283959475499289192"
     },
     "user_tz": -330
    },
    "id": "7WWLNWzLDDR0"
   },
   "outputs": [],
   "source": [
    "#readability score\n",
    "from textstat.textstat import textstat\n",
    "#fk score -> readability score\n",
    "\n",
    "data[\"FK_Score\"] = data[\"REVIEW_TEXT\"].apply(textstat.flesch_kincaid_grade)"
   ]
  },
  {
   "cell_type": "code",
   "execution_count": 18,
   "metadata": {
    "colab": {
     "base_uri": "https://localhost:8080/"
    },
    "executionInfo": {
     "elapsed": 630,
     "status": "ok",
     "timestamp": 1649269920485,
     "user": {
      "displayName": "Aniketh Professional",
      "userId": "18283959475499289192"
     },
     "user_tz": -330
    },
    "id": "GyDQX6T3DTd6",
    "outputId": "496a7198-ff78-4d72-a2cb-21ce5d262255"
   },
   "outputs": [
    {
     "name": "stderr",
     "output_type": "stream",
     "text": [
      "[nltk_data] Downloading package stopwords to C:\\Users\\Amar\n",
      "[nltk_data]     Anikethvarma\\AppData\\Roaming\\nltk_data...\n",
      "[nltk_data]   Package stopwords is already up-to-date!\n"
     ]
    }
   ],
   "source": [
    "#textual processing\n",
    "# !pip install nltk\n",
    "import nltk\n",
    "nltk.download('stopwords')\n",
    "wpt = nltk.WordPunctTokenizer()\n",
    "stop_words = nltk.corpus.stopwords.words(\"english\")"
   ]
  },
  {
   "cell_type": "code",
   "execution_count": 19,
   "metadata": {
    "executionInfo": {
     "elapsed": 3811,
     "status": "ok",
     "timestamp": 1649269924295,
     "user": {
      "displayName": "Aniketh Professional",
      "userId": "18283959475499289192"
     },
     "user_tz": -330
    },
    "id": "BlNx73ghEKaf"
   },
   "outputs": [],
   "source": [
    "#stopword counts\n",
    "def stopword_counts(sent):\n",
    "  summ = 0\n",
    "  for char in sent.split():\n",
    "    summ += char in stop_words\n",
    "  return summ\n",
    "\n",
    "data['stop_count'] = data['REVIEW_TEXT'].apply(stopword_counts)"
   ]
  },
  {
   "cell_type": "code",
   "execution_count": 20,
   "metadata": {
    "colab": {
     "base_uri": "https://localhost:8080/"
    },
    "executionInfo": {
     "elapsed": 4,
     "status": "ok",
     "timestamp": 1649269924295,
     "user": {
      "displayName": "Aniketh Professional",
      "userId": "18283959475499289192"
     },
     "user_tz": -330
    },
    "id": "4Wzn482JEuLc",
    "outputId": "a9436f04-e183-441e-f096-e5843b4dcd5e"
   },
   "outputs": [
    {
     "data": {
      "text/plain": [
       "0        10\n",
       "1        28\n",
       "2        25\n",
       "3        18\n",
       "4        34\n",
       "       ... \n",
       "9721     14\n",
       "9722     13\n",
       "9723    118\n",
       "9724     13\n",
       "9725     54\n",
       "Name: stop_count, Length: 9726, dtype: int64"
      ]
     },
     "execution_count": 20,
     "metadata": {},
     "output_type": "execute_result"
    }
   ],
   "source": [
    "data['stop_count']"
   ]
  },
  {
   "cell_type": "code",
   "execution_count": 21,
   "metadata": {
    "executionInfo": {
     "elapsed": 635,
     "status": "ok",
     "timestamp": 1649269924928,
     "user": {
      "displayName": "Aniketh Professional",
      "userId": "18283959475499289192"
     },
     "user_tz": -330
    },
    "id": "mUtxDQRwE8zr"
   },
   "outputs": [],
   "source": [
    "#caps lock counts\n",
    "def capital_counts(x):\n",
    "    summ =0\n",
    "    for char in x:\n",
    "        summ+= char in \"QWERTYUIOPASDFGHJKLZXCVBNM\"\n",
    "    return summ\n",
    "data['caps_count'] = data['REVIEW_TEXT'].apply(capital_counts)"
   ]
  },
  {
   "cell_type": "code",
   "execution_count": 22,
   "metadata": {
    "colab": {
     "base_uri": "https://localhost:8080/"
    },
    "executionInfo": {
     "elapsed": 3,
     "status": "ok",
     "timestamp": 1649269924928,
     "user": {
      "displayName": "Aniketh Professional",
      "userId": "18283959475499289192"
     },
     "user_tz": -330
    },
    "id": "vkMl4d3fFVPO",
    "outputId": "0428331a-5f7e-447e-9314-3a99d4dfa8bf"
   },
   "outputs": [
    {
     "data": {
      "text/plain": [
       "0        2\n",
       "1        4\n",
       "2        6\n",
       "3        6\n",
       "4        4\n",
       "        ..\n",
       "9721     8\n",
       "9722     2\n",
       "9723    97\n",
       "9724     4\n",
       "9725     8\n",
       "Name: caps_count, Length: 9726, dtype: int64"
      ]
     },
     "execution_count": 22,
     "metadata": {},
     "output_type": "execute_result"
    }
   ],
   "source": [
    "data['caps_count']"
   ]
  },
  {
   "cell_type": "code",
   "execution_count": 23,
   "metadata": {
    "executionInfo": {
     "elapsed": 29576,
     "status": "ok",
     "timestamp": 1649269954503,
     "user": {
      "displayName": "Aniketh Professional",
      "userId": "18283959475499289192"
     },
     "user_tz": -330
    },
    "id": "jyE9e5dA51QO"
   },
   "outputs": [],
   "source": [
    "#check if product name matches something written in text\n",
    "import re\n",
    "import string\n",
    "match_list = []\n",
    "\n",
    "def checkName(title,text):\n",
    "    matches = []\n",
    "    for word in title.split():\n",
    "        #removing punctuation\n",
    "        word = \"\".join((char for char in word if char not in string.punctuation))\n",
    "        #print(word)\n",
    "        myreg = r'\\b'+word+r'\\b'\n",
    "        r = re.compile(myreg, flags=re.I | re.X)\n",
    "        matches.append(r.findall(text))\n",
    "    return len(matches)\n",
    "        \n",
    "\n",
    "for a,b in zip(data.PRODUCT_TITLE, data.REVIEW_TEXT):\n",
    "    number_of_matches = checkName(a,b)\n",
    "    match_list.append(number_of_matches)\n",
    "    \n",
    "data[\"matchesDf\"] = match_list"
   ]
  },
  {
   "cell_type": "code",
   "execution_count": 24,
   "metadata": {
    "colab": {
     "base_uri": "https://localhost:8080/"
    },
    "executionInfo": {
     "elapsed": 13,
     "status": "ok",
     "timestamp": 1649269954503,
     "user": {
      "displayName": "Aniketh Professional",
      "userId": "18283959475499289192"
     },
     "user_tz": -330
    },
    "id": "ActVHO3K59NA",
    "outputId": "ac0b67cc-660d-438a-caba-2c075df13bdd"
   },
   "outputs": [
    {
     "name": "stdout",
     "output_type": "stream",
     "text": [
      "0        7\n",
      "1       24\n",
      "2        5\n",
      "3        6\n",
      "4       11\n",
      "        ..\n",
      "9721    11\n",
      "9722     7\n",
      "9723    10\n",
      "9724     5\n",
      "9725    10\n",
      "Name: matchesDf, Length: 9726, dtype: int64\n",
      "Targus PAUK10U Ultra Mini USB Keypad, Black When least you think so, this product will save the day. Just keep it around just in case you need it for something.\n"
     ]
    }
   ],
   "source": [
    "print(data[\"matchesDf\"])\n",
    "print(data[\"PRODUCT_TITLE\"][0], data[\"REVIEW_TEXT\"][0])"
   ]
  },
  {
   "cell_type": "code",
   "execution_count": 25,
   "metadata": {
    "executionInfo": {
     "elapsed": 12,
     "status": "ok",
     "timestamp": 1649269954503,
     "user": {
      "displayName": "Aniketh Professional",
      "userId": "18283959475499289192"
     },
     "user_tz": -330
    },
    "id": "wxDEcwuS6Rmk"
   },
   "outputs": [],
   "source": [
    "#counting emojis\n",
    "data[\"emojis\"] = data[\"REVIEW_TEXT\"].apply(lambda x: 1 if \";)\" in x.split() or \":)\" in x.split() or \":-)\" in x.split() else 0)"
   ]
  },
  {
   "cell_type": "code",
   "execution_count": 26,
   "metadata": {
    "colab": {
     "base_uri": "https://localhost:8080/",
     "height": 35
    },
    "executionInfo": {
     "elapsed": 11,
     "status": "ok",
     "timestamp": 1649269954503,
     "user": {
      "displayName": "Aniketh Professional",
      "userId": "18283959475499289192"
     },
     "user_tz": -330
    },
    "id": "u_mglLdn7Axx",
    "outputId": "dbf76b75-05c0-4e91-df69-d6944fc60503"
   },
   "outputs": [
    {
     "data": {
      "text/plain": [
       "'\\nsentiment classifier\\n'"
      ]
     },
     "execution_count": 26,
     "metadata": {},
     "output_type": "execute_result"
    }
   ],
   "source": [
    "'''\n",
    "sentiment classifier\n",
    "'''"
   ]
  },
  {
   "cell_type": "code",
   "execution_count": 27,
   "metadata": {
    "executionInfo": {
     "elapsed": 12,
     "status": "ok",
     "timestamp": 1649269954504,
     "user": {
      "displayName": "Aniketh Professional",
      "userId": "18283959475499289192"
     },
     "user_tz": -330
    },
    "id": "5Da1VhUP7Gjn"
   },
   "outputs": [],
   "source": [
    "#get sentiments\n",
    "data.loc[data[\"RATING\"] < 3, \"RATING\"] = 0\n",
    "data.loc[data[\"RATING\"] > 3, \"RATING\"] = 1"
   ]
  },
  {
   "cell_type": "code",
   "execution_count": 28,
   "metadata": {
    "colab": {
     "base_uri": "https://localhost:8080/"
    },
    "executionInfo": {
     "elapsed": 11,
     "status": "ok",
     "timestamp": 1649269954504,
     "user": {
      "displayName": "Aniketh Professional",
      "userId": "18283959475499289192"
     },
     "user_tz": -330
    },
    "id": "6pKuQqip7MZw",
    "outputId": "fcb77b09-f782-4631-e34b-96dfb797cd35"
   },
   "outputs": [
    {
     "data": {
      "text/plain": [
       "1    7333\n",
       "0    1516\n",
       "3     877\n",
       "Name: RATING, dtype: int64"
      ]
     },
     "execution_count": 28,
     "metadata": {},
     "output_type": "execute_result"
    }
   ],
   "source": [
    "data.RATING.value_counts()"
   ]
  },
  {
   "cell_type": "code",
   "execution_count": 29,
   "metadata": {
    "colab": {
     "base_uri": "https://localhost:8080/"
    },
    "executionInfo": {
     "elapsed": 10,
     "status": "ok",
     "timestamp": 1649269954504,
     "user": {
      "displayName": "Aniketh Professional",
      "userId": "18283959475499289192"
     },
     "user_tz": -330
    },
    "id": "2Oi9eGrF7UXa",
    "outputId": "cff71682-4b63-49a0-a4e3-f16353c721fd"
   },
   "outputs": [
    {
     "name": "stdout",
     "output_type": "stream",
     "text": [
      "7333\n",
      "1467\n"
     ]
    }
   ],
   "source": [
    "data1 = data.loc[data['RATING'] == 1]\n",
    "print(len(data1))\n",
    "data2 = data1.sample(frac=0.2, replace=True)\n",
    "print(len(data2))\n",
    "data3 = data1 = data.loc[data['RATING'] == 0]"
   ]
  },
  {
   "cell_type": "code",
   "execution_count": 30,
   "metadata": {
    "colab": {
     "base_uri": "https://localhost:8080/"
    },
    "executionInfo": {
     "elapsed": 9,
     "status": "ok",
     "timestamp": 1649269954504,
     "user": {
      "displayName": "Aniketh Professional",
      "userId": "18283959475499289192"
     },
     "user_tz": -330
    },
    "id": "Qe0xaTNC7jDM",
    "outputId": "b20ced27-bdcf-459d-8a12-b8087cd36a44"
   },
   "outputs": [
    {
     "data": {
      "text/plain": [
       "Index(['DOC_ID', 'LABEL', 'RATING', 'VERIFIED_PURCHASE', 'PRODUCT_CATEGORY',\n",
       "       'PRODUCT_ID', 'PRODUCT_TITLE', 'REVIEW_TITLE', 'REVIEW_TEXT',\n",
       "       'TEXT_LENGTH', 'num_sentences', 'FK_Score', 'stop_count', 'caps_count',\n",
       "       'matchesDf', 'emojis'],\n",
       "      dtype='object')"
      ]
     },
     "execution_count": 30,
     "metadata": {},
     "output_type": "execute_result"
    }
   ],
   "source": [
    "data.columns"
   ]
  },
  {
   "cell_type": "code",
   "execution_count": 31,
   "metadata": {
    "executionInfo": {
     "elapsed": 9,
     "status": "ok",
     "timestamp": 1649269954505,
     "user": {
      "displayName": "Aniketh Professional",
      "userId": "18283959475499289192"
     },
     "user_tz": -330
    },
    "id": "XzLzhdL-7lhq"
   },
   "outputs": [],
   "source": [
    "#data"
   ]
  },
  {
   "cell_type": "code",
   "execution_count": 32,
   "metadata": {
    "executionInfo": {
     "elapsed": 8,
     "status": "ok",
     "timestamp": 1649269954505,
     "user": {
      "displayName": "Aniketh Professional",
      "userId": "18283959475499289192"
     },
     "user_tz": -330
    },
    "id": "yeFKy1Wv7pjK"
   },
   "outputs": [],
   "source": [
    "data4 = pd.concat([data2, data3], ignore_index=True)"
   ]
  },
  {
   "cell_type": "code",
   "execution_count": 33,
   "metadata": {
    "colab": {
     "base_uri": "https://localhost:8080/"
    },
    "executionInfo": {
     "elapsed": 8,
     "status": "ok",
     "timestamp": 1649269954505,
     "user": {
      "displayName": "Aniketh Professional",
      "userId": "18283959475499289192"
     },
     "user_tz": -330
    },
    "id": "Mjg9cICw9KW6",
    "outputId": "aaecef97-ba5e-47b4-9598-e5bfef5573cf"
   },
   "outputs": [
    {
     "name": "stderr",
     "output_type": "stream",
     "text": [
      "[nltk_data] Downloading package punkt to C:\\Users\\Amar\n",
      "[nltk_data]     Anikethvarma\\AppData\\Roaming\\nltk_data...\n",
      "[nltk_data]   Package punkt is already up-to-date!\n"
     ]
    },
    {
     "data": {
      "text/plain": [
       "True"
      ]
     },
     "execution_count": 33,
     "metadata": {},
     "output_type": "execute_result"
    }
   ],
   "source": [
    "import csv                             \n",
    "from sklearn.svm import LinearSVC\n",
    "from nltk.classify import SklearnClassifier\n",
    "from random import shuffle\n",
    "from sklearn.pipeline import Pipeline\n",
    "from sklearn.feature_extraction.text import CountVectorizer\n",
    "from sklearn.metrics import precision_recall_fscore_support\n",
    "from sklearn.metrics import accuracy_score\n",
    "import numpy as np\n",
    "# !pip uninstall nltk\n",
    "# !pip install nltk\n",
    "\n",
    "import nltk\n",
    "import string\n",
    "from nltk.corpus import stopwords\n",
    "from nltk.tokenize import RegexpTokenizer\n",
    "from nltk.stem import WordNetLemmatizer\n",
    "from sklearn.feature_extraction.text import TfidfVectorizer\n",
    "from nltk.util import ngrams\n",
    "from nltk.tokenize import word_tokenize\n",
    "nltk.download('punkt')"
   ]
  },
  {
   "cell_type": "code",
   "execution_count": 34,
   "metadata": {
    "executionInfo": {
     "elapsed": 7,
     "status": "ok",
     "timestamp": 1649269954505,
     "user": {
      "displayName": "Aniketh Professional",
      "userId": "18283959475499289192"
     },
     "user_tz": -330
    },
    "id": "9xQSIc8I936T"
   },
   "outputs": [],
   "source": [
    "rawData = data4[[\"REVIEW_TEXT\", \"RATING\"]]\n",
    "rawData = [tuple(x) for x in rawData.values]"
   ]
  },
  {
   "cell_type": "code",
   "execution_count": 35,
   "metadata": {
    "colab": {
     "base_uri": "https://localhost:8080/"
    },
    "executionInfo": {
     "elapsed": 6,
     "status": "ok",
     "timestamp": 1649269954505,
     "user": {
      "displayName": "Aniketh Professional",
      "userId": "18283959475499289192"
     },
     "user_tz": -330
    },
    "id": "7lB6tv5w97tF",
    "outputId": "e44bee32-2b94-4dcf-8f56-89482b2dafa2"
   },
   "outputs": [
    {
     "name": "stdout",
     "output_type": "stream",
     "text": [
      "2983\n"
     ]
    }
   ],
   "source": [
    "print(len(rawData))"
   ]
  },
  {
   "cell_type": "code",
   "execution_count": 36,
   "metadata": {
    "executionInfo": {
     "elapsed": 5,
     "status": "ok",
     "timestamp": 1649269954505,
     "user": {
      "displayName": "Aniketh Professional",
      "userId": "18283959475499289192"
     },
     "user_tz": -330
    },
    "id": "lIcxxNCG-Ek4"
   },
   "outputs": [],
   "source": [
    "table = str.maketrans({key: None for key in string.punctuation})\n",
    "# table"
   ]
  },
  {
   "cell_type": "code",
   "execution_count": 37,
   "metadata": {
    "executionInfo": {
     "elapsed": 6,
     "status": "ok",
     "timestamp": 1649269954506,
     "user": {
      "displayName": "Aniketh Professional",
      "userId": "18283959475499289192"
     },
     "user_tz": -330
    },
    "id": "cSGTSddC_E67"
   },
   "outputs": [],
   "source": [
    "def preProcess(text):\n",
    "    # Should return a list of tokens\n",
    "    lemmatizer = WordNetLemmatizer()\n",
    "    filtered_tokens=[]\n",
    "    lemmatized_tokens = []\n",
    "    stop_words = set(stopwords.words('english'))\n",
    "    text = text.translate(table)\n",
    "    for w in text.split(\" \"):\n",
    "        if w not in stop_words:\n",
    "            lemmatized_tokens.append(lemmatizer.lemmatize(w.lower()))\n",
    "        filtered_tokens = [' '.join(l) for l in nltk.bigrams(lemmatized_tokens)] + lemmatized_tokens\n",
    "    return filtered_tokens"
   ]
  },
  {
   "cell_type": "code",
   "execution_count": 38,
   "metadata": {
    "executionInfo": {
     "elapsed": 654,
     "status": "ok",
     "timestamp": 1649269955154,
     "user": {
      "displayName": "Aniketh Professional",
      "userId": "18283959475499289192"
     },
     "user_tz": -330
    },
    "id": "6v1XrubQ_I3v"
   },
   "outputs": [],
   "source": [
    "featureDict = {} # A global dictionary of features\n",
    "\n",
    "def toFeatureVector(tokens):\n",
    "    localDict = {}\n",
    "    for token in tokens:\n",
    "        if token not in featureDict:\n",
    "            featureDict[token] = 1\n",
    "        else:\n",
    "            featureDict[token] = +1\n",
    "   \n",
    "        if token not in localDict:\n",
    "            localDict[token] = 1\n",
    "        else:\n",
    "            localDict[token] = +1\n",
    "    \n",
    "    return localDict"
   ]
  },
  {
   "cell_type": "code",
   "execution_count": 39,
   "metadata": {
    "executionInfo": {
     "elapsed": 6,
     "status": "ok",
     "timestamp": 1649269955155,
     "user": {
      "displayName": "Aniketh Professional",
      "userId": "18283959475499289192"
     },
     "user_tz": -330
    },
    "id": "Cea7sAce_K_o"
   },
   "outputs": [],
   "source": [
    "def crossValidate(dataset, folds):\n",
    "    shuffle(dataset)\n",
    "    cv_results = []\n",
    "    foldSize = int(len(dataset)/folds)\n",
    "    for i in range(0,len(dataset),foldSize):\n",
    "        classifier = trainClassifier(dataset[:i]+dataset[foldSize+i:])\n",
    "        y_pred = predictLabels(dataset[i:i+foldSize],classifier)\n",
    "        a = accuracy_score(list(map(lambda d : d[1], dataset[i:i+foldSize])), y_pred)\n",
    "        (p,r,f,_) = precision_recall_fscore_support(list(map(lambda d : d[1], dataset[i:i+foldSize])), y_pred, average ='macro')\n",
    "        #print(a,p,r,f)\n",
    "        cv_results.append((a,p,r,f))\n",
    "    cv_results = (np.mean(np.array(cv_results),axis=0))\n",
    "    return cv_results"
   ]
  },
  {
   "cell_type": "code",
   "execution_count": 40,
   "metadata": {
    "executionInfo": {
     "elapsed": 6,
     "status": "ok",
     "timestamp": 1649269955155,
     "user": {
      "displayName": "Aniketh Professional",
      "userId": "18283959475499289192"
     },
     "user_tz": -330
    },
    "id": "q0B07fCw_Mwt"
   },
   "outputs": [],
   "source": [
    "def splitData(percentage):\n",
    "    dataSamples = len(rawData)\n",
    "    halfOfData = int(len(rawData)//2)\n",
    "    trainingSamples = int((percentage*dataSamples)/2)\n",
    "    for (Text, Label) in rawData[:trainingSamples] + rawData[halfOfData:halfOfData+trainingSamples]:\n",
    "        trainData.append((toFeatureVector(preProcess(Text)),Label))\n",
    "    for (Text, Label) in rawData[trainingSamples:halfOfData] + rawData[halfOfData+trainingSamples:]:\n",
    "        testData.append((toFeatureVector(preProcess(Text)),Label))"
   ]
  },
  {
   "cell_type": "code",
   "execution_count": 41,
   "metadata": {
    "executionInfo": {
     "elapsed": 5,
     "status": "ok",
     "timestamp": 1649269955155,
     "user": {
      "displayName": "Aniketh Professional",
      "userId": "18283959475499289192"
     },
     "user_tz": -330
    },
    "id": "o4zfp-7F_PD4"
   },
   "outputs": [],
   "source": [
    "def trainClassifier(trainData):\n",
    "    print(\"Training Classifier...\")\n",
    "    pipeline =  Pipeline([('svc', LinearSVC(C=0.01))])\n",
    "    return SklearnClassifier(pipeline).train(trainData)"
   ]
  },
  {
   "cell_type": "code",
   "execution_count": 42,
   "metadata": {
    "executionInfo": {
     "elapsed": 5,
     "status": "ok",
     "timestamp": 1649269955155,
     "user": {
      "displayName": "Aniketh Professional",
      "userId": "18283959475499289192"
     },
     "user_tz": -330
    },
    "id": "Pz39PSjr_Pud"
   },
   "outputs": [],
   "source": [
    "\n",
    "def predictLabels(reviewSamples, classifier):\n",
    "    return classifier.classify_many(map(lambda t: t[0], reviewSamples))"
   ]
  },
  {
   "cell_type": "code",
   "execution_count": 43,
   "metadata": {
    "colab": {
     "base_uri": "https://localhost:8080/"
    },
    "executionInfo": {
     "elapsed": 5,
     "status": "ok",
     "timestamp": 1649269955155,
     "user": {
      "displayName": "Aniketh Professional",
      "userId": "18283959475499289192"
     },
     "user_tz": -330
    },
    "id": "VsXCLDEjBLzk",
    "outputId": "f905a863-6535-48f7-c330-e9587ed48103"
   },
   "outputs": [
    {
     "name": "stderr",
     "output_type": "stream",
     "text": [
      "[nltk_data] Downloading package wordnet to C:\\Users\\Amar\n",
      "[nltk_data]     Anikethvarma\\AppData\\Roaming\\nltk_data...\n",
      "[nltk_data]   Package wordnet is already up-to-date!\n"
     ]
    },
    {
     "data": {
      "text/plain": [
       "True"
      ]
     },
     "execution_count": 43,
     "metadata": {},
     "output_type": "execute_result"
    }
   ],
   "source": [
    "import nltk\n",
    "nltk.download('wordnet')\n",
    "\n"
   ]
  },
  {
   "cell_type": "code",
   "execution_count": 44,
   "metadata": {
    "colab": {
     "base_uri": "https://localhost:8080/"
    },
    "executionInfo": {
     "elapsed": 5,
     "status": "ok",
     "timestamp": 1649269955156,
     "user": {
      "displayName": "Aniketh Professional",
      "userId": "18283959475499289192"
     },
     "user_tz": -330
    },
    "id": "aYh8PcI9Egl_",
    "outputId": "aefc8192-b163-41da-ab5f-b39575f405ef"
   },
   "outputs": [
    {
     "name": "stderr",
     "output_type": "stream",
     "text": [
      "[nltk_data] Downloading package omw-1.4 to C:\\Users\\Amar\n",
      "[nltk_data]     Anikethvarma\\AppData\\Roaming\\nltk_data...\n",
      "[nltk_data]   Package omw-1.4 is already up-to-date!\n"
     ]
    },
    {
     "data": {
      "text/plain": [
       "True"
      ]
     },
     "execution_count": 44,
     "metadata": {},
     "output_type": "execute_result"
    }
   ],
   "source": [
    "nltk.download('omw-1.4')"
   ]
  },
  {
   "cell_type": "code",
   "execution_count": 45,
   "metadata": {
    "colab": {
     "base_uri": "https://localhost:8080/"
    },
    "executionInfo": {
     "elapsed": 20711,
     "status": "ok",
     "timestamp": 1649269975863,
     "user": {
      "displayName": "Aniketh Professional",
      "userId": "18283959475499289192"
     },
     "user_tz": -330
    },
    "id": "eKB79urHBciF",
    "outputId": "c62b71b2-d4b5-4601-966a-eb126fa1b460"
   },
   "outputs": [
    {
     "name": "stdout",
     "output_type": "stream",
     "text": [
      "Now 2983 rawData, 0 trainData, 0 testData\n",
      "Preparing training and test data...\n",
      "Now 2983 rawData, 2386 trainData, 597 testData\n",
      "Training Samples: \n",
      "2386\n",
      "Features: \n",
      "80008\n",
      "Training Classifier...\n",
      "Training Classifier...\n",
      "Training Classifier...\n",
      "Training Classifier...\n",
      "Training Classifier...\n",
      "Training Classifier...\n",
      "Training Classifier...\n",
      "Training Classifier...\n",
      "Training Classifier...\n",
      "Training Classifier...\n",
      "Training Classifier...\n",
      "Mean of cross-validations (Accuracy, Precision, Recall, Fscore):  [0.85497835 0.8468646  0.86170454 0.84930666]\n"
     ]
    }
   ],
   "source": [
    "#rawData = []          # the filtered data from the dataset file (should be 21000 samples)\n",
    "#preprocessedData = [] # the preprocessed reviews (just to see how your preprocessing is doing)\n",
    "trainData = []        # the training data as a percentage of the total dataset (currently 80%, or 16800 samples)\n",
    "testData = []    \n",
    "\n",
    "#print(\"Now %d rawData, %d trainData, %d testData\" % (len(rawData), len(trainData), len(testData)),\n",
    " #     \"Preparing the dataset...\",sep='\\n')\n",
    "\n",
    "# We split the raw dataset into a set of training data and a set of test data (80/20)\n",
    "print(\"Now %d rawData, %d trainData, %d testData\" % (len(rawData), len(trainData), len(testData)),\n",
    "      \"Preparing training and test data...\",sep='\\n')\n",
    "splitData(0.8)\n",
    "# We print the number of training samples and the number of features\n",
    "print(\"Now %d rawData, %d trainData, %d testData\" % (len(rawData), len(trainData), len(testData)),\n",
    "      \"Training Samples: \", len(trainData), \"Features: \", len(featureDict), sep='\\n')\n",
    "print(\"Mean of cross-validations (Accuracy, Precision, Recall, Fscore): \", crossValidate(trainData, 10))"
   ]
  },
  {
   "cell_type": "code",
   "execution_count": 46,
   "metadata": {
    "colab": {
     "base_uri": "https://localhost:8080/"
    },
    "executionInfo": {
     "elapsed": 10,
     "status": "ok",
     "timestamp": 1649269975863,
     "user": {
      "displayName": "Aniketh Professional",
      "userId": "18283959475499289192"
     },
     "user_tz": -330
    },
    "id": "Umwo3TtQDNhO",
    "outputId": "aca96402-4cbc-461d-f095-89483bfd49cd"
   },
   "outputs": [
    {
     "name": "stdout",
     "output_type": "stream",
     "text": [
      "3.10.4 (tags/v3.10.4:9d38120, Mar 23 2022, 23:13:41) [MSC v.1929 64 bit (AMD64)]\n",
      "3.7\n"
     ]
    }
   ],
   "source": [
    "import sys\n",
    "print(sys.version)\n",
    "print(nltk.__version__)"
   ]
  },
  {
   "cell_type": "code",
   "execution_count": 47,
   "metadata": {
    "executionInfo": {
     "elapsed": 9,
     "status": "ok",
     "timestamp": 1649269975863,
     "user": {
      "displayName": "Aniketh Professional",
      "userId": "18283959475499289192"
     },
     "user_tz": -330
    },
    "id": "jicI83EaD6cu"
   },
   "outputs": [],
   "source": [
    "rawData = data4[[\"REVIEW_TEXT\", \"VERIFIED_PURCHASE\", \"PRODUCT_CATEGORY\", \"LABEL\", \"RATING\"]]\n",
    "rawData = [tuple(x) for x in rawData.values]\n",
    "# print(rawData[0:5])"
   ]
  },
  {
   "cell_type": "code",
   "execution_count": 48,
   "metadata": {
    "executionInfo": {
     "elapsed": 9,
     "status": "ok",
     "timestamp": 1649269975863,
     "user": {
      "displayName": "Aniketh Professional",
      "userId": "18283959475499289192"
     },
     "user_tz": -330
    },
    "id": "1TO3LvVrFhg4"
   },
   "outputs": [],
   "source": [
    "def splitData(percentage):\n",
    "    dataSamples = len(rawData)\n",
    "    halfOfData = int(len(rawData)/2)\n",
    "    trainingSamples = int((percentage*dataSamples)/2)\n",
    "    for (Text, verified_Purchase, product_Category, Label, Rating) in rawData[:trainingSamples] + rawData[halfOfData:halfOfData+trainingSamples]:\n",
    "        trainData.append((toFeatureVector(preProcess(Text), verified_Purchase, product_Category, Label), Rating))\n",
    "    for (Text, verified_Purchase, product_Category, Label, Rating) in rawData[trainingSamples:halfOfData] + rawData[halfOfData+trainingSamples:]:\n",
    "        testData.append((toFeatureVector(preProcess(Text), verified_Purchase, product_Category, Label), Rating))"
   ]
  },
  {
   "cell_type": "code",
   "execution_count": 49,
   "metadata": {
    "executionInfo": {
     "elapsed": 428,
     "status": "ok",
     "timestamp": 1649271136598,
     "user": {
      "displayName": "Aniketh Professional",
      "userId": "18283959475499289192"
     },
     "user_tz": -330
    },
    "id": "GPbxK3ykFq4m"
   },
   "outputs": [],
   "source": [
    "featureDict = {} # A global dictionary of features\n",
    "\n",
    "def toFeatureVector(Rating, verified_Purchase, product_Category, tokens):\n",
    "    localDict = {}\n",
    "    \n",
    "#Labels\n",
    "\n",
    "    # featureDict[\"L\"] = 1   \n",
    "    # localDict[\"L\"] = labels\n",
    "    featureDict[\"R\"] = 1   \n",
    "    localDict[\"R\"] = Rating\n",
    "\n",
    "\n",
    "#Verified_Purchase\n",
    "  \n",
    "    featureDict[\"VP\"] = 1\n",
    "            \n",
    "    if verified_Purchase == \"N\":\n",
    "        localDict[\"VP\"] = 0\n",
    "    else:\n",
    "        localDict[\"VP\"] = 1\n",
    "\n",
    "#Product_Category\n",
    "\n",
    "    \n",
    "    if product_Category not in featureDict:\n",
    "        featureDict[product_Category] = 1\n",
    "    else:\n",
    "        featureDict[product_Category] = +1\n",
    "            \n",
    "    if product_Category not in localDict:\n",
    "        localDict[product_Category] = 1\n",
    "    else:\n",
    "        localDict[product_Category] = +1\n",
    "            \n",
    "            \n",
    "#Text        \n",
    "\n",
    "    for token in tokens:\n",
    "        if token not in featureDict:\n",
    "            featureDict[token] = 1\n",
    "        else:\n",
    "            featureDict[token] = +1\n",
    "            \n",
    "        if token not in localDict:\n",
    "            localDict[token] = 1\n",
    "        else:\n",
    "            localDict[token] = +1\n",
    "    \n",
    "    return localDict"
   ]
  },
  {
   "cell_type": "code",
   "execution_count": 50,
   "metadata": {
    "colab": {
     "base_uri": "https://localhost:8080/"
    },
    "executionInfo": {
     "elapsed": 20255,
     "status": "ok",
     "timestamp": 1649270778702,
     "user": {
      "displayName": "Aniketh Professional",
      "userId": "18283959475499289192"
     },
     "user_tz": -330
    },
    "id": "2CdeF6SQF3di",
    "outputId": "447a0057-5af2-4821-c27d-0f223feca6a9"
   },
   "outputs": [],
   "source": [
    "# trainData = []        # the training data as a percentage of the total dataset (currently 80%, or 16800 samples)\n",
    "# testData = []    \n",
    "\n",
    "# #print(\"Now %d rawData, %d trainData, %d testData\" % (len(rawData), len(trainData), len(testData)),\n",
    "#  #     \"Preparing the dataset...\",sep='\\n')\n",
    "\n",
    "# # We split the raw dataset into a set of training data and a set of test data (80/20)\n",
    "# print(\"Now %d rawData, %d trainData, %d testData\" % (len(rawData), len(trainData), len(testData)),\n",
    "#       \"Preparing training and test data...\",sep='\\n')\n",
    "# splitData(0.8)\n",
    "# # We print the number of training samples and the number of features\n",
    "# print(\"Now %d rawData, %d trainData, %d testData\" % (len(rawData), len(trainData), len(testData)),\n",
    "#       \"Training Samples: \", len(trainData), \"Features: \", len(featureDict), sep='\\n')\n",
    "# print(\"Mean of cross-validations (Accuracy, Precision, Recall, Fscore): \", crossValidate(trainData, 20))"
   ]
  },
  {
   "cell_type": "code",
   "execution_count": 54,
   "metadata": {
    "colab": {
     "base_uri": "https://localhost:8080/"
    },
    "executionInfo": {
     "elapsed": 1200,
     "status": "ok",
     "timestamp": 1649270779900,
     "user": {
      "displayName": "Aniketh Professional",
      "userId": "18283959475499289192"
     },
     "user_tz": -330
    },
    "id": "30bVTDuNF_JZ",
    "outputId": "76b3b4b7-82b1-4ef8-faef-b8fffa45e0bf"
   },
   "outputs": [
    {
     "name": "stdout",
     "output_type": "stream",
     "text": [
      "Training Classifier...\n",
      "accuracy:  0.8844221105527639\n",
      "Precision:  0.8835686053077357\n",
      "Recall:  0.8844221105527639\n",
      "f1-score:  0.883670097852332\n"
     ]
    }
   ],
   "source": [
    "classifier = trainClassifier(trainData)\n",
    "predictions = predictLabels(testData, classifier)\n",
    "true_labels = list(map(lambda d: d[1], testData))\n",
    "a = accuracy_score(true_labels, predictions)\n",
    "p, r, f1, _ = precision_recall_fscore_support(true_labels, predictions, average='macro')\n",
    "print(\"accuracy: \", a)\n",
    "print(\"Precision: \", p)\n",
    "print(\"Recall: \", a)\n",
    "print(\"f1-score: \", f1)"
   ]
  },
  {
   "cell_type": "code",
   "execution_count": 55,
   "metadata": {
    "colab": {
     "base_uri": "https://localhost:8080/"
    },
    "executionInfo": {
     "elapsed": 366,
     "status": "ok",
     "timestamp": 1649270355410,
     "user": {
      "displayName": "Aniketh Professional",
      "userId": "18283959475499289192"
     },
     "user_tz": -330
    },
    "id": "GuBqjNsTKdMV",
    "outputId": "038b3144-66b0-4f1b-a8ce-392adc992bac"
   },
   "outputs": [
    {
     "name": "stdout",
     "output_type": "stream",
     "text": [
      "({'the black': 1, 'black crocopatterned': 1, 'crocopatterned genuine': 1, 'genuine leather': 1, 'leather strap': 1, 'strap silvertoned': 1, 'silvertoned brass': 1, 'brass case': 1, 'case bezel': 1, 'bezel timex': 1, 'timex woman': 1, 'woman t2n335': 1, 't2n335 elevated': 1, 'elevated classic': 1, 'classic dress': 1, 'dress black': 1, 'black leather': 1, 'strap watch': 1, 'watch would': 1, 'would look': 1, 'look smart': 1, 'smart dressy': 1, 'dressy black': 1, 'black outfit': 1, 'outfit this': 1, 'this analog': 1, 'analog watch': 1, 'watch feature': 1, 'feature black': 1, 'black dial': 1, 'dial arabic': 1, 'arabic numeral': 1, 'numeral inner': 1, 'inner ring': 1, 'ring minute': 1, 'minute index': 1, 'index other': 1, 'other feature': 1, 'feature include': 1, 'include date': 1, 'date display': 1, 'display 3': 1, '3 oclock': 1, 'oclock position': 1, 'position indiglo®': 1, 'indiglo® nightlight': 1, 'nightlight function': 1, 'function easy': 1, 'easy viewing': 1, 'viewing lowlight': 1, 'lowlight environment': 1, 'environment mineral': 1, 'mineral crystal': 1, 'crystal window': 1, 'window the': 1, 'the calfskin': 1, 'calfskin band': 1, 'band secures': 1, 'secures sturdy': 1, 'sturdy buckle': 1, 'buckle clasp': 1, 'clasp this': 1, 'this classic': 1, 'classic timex': 1, 'timex watch': 1, 'watch woman': 1, 'woman relies': 1, 'relies analog': 1, 'analog quartz': 1, 'quartz movement': 1, 'movement water': 1, 'water resistant': 1, 'resistant 99': 1, '99 foot': 1, 'foot 30': 1, '30 meter': 1, 'the': 1, 'black': 1, 'crocopatterned': 1, 'genuine': 1, 'leather': 1, 'strap': 1, 'silvertoned': 1, 'brass': 1, 'case': 1, 'bezel': 1, 'timex': 1, 'woman': 1, 't2n335': 1, 'elevated': 1, 'classic': 1, 'dress': 1, 'watch': 1, 'would': 1, 'look': 1, 'smart': 1, 'dressy': 1, 'outfit': 1, 'this': 1, 'analog': 1, 'feature': 1, 'dial': 1, 'arabic': 1, 'numeral': 1, 'inner': 1, 'ring': 1, 'minute': 1, 'index': 1, 'other': 1, 'include': 1, 'date': 1, 'display': 1, '3': 1, 'oclock': 1, 'position': 1, 'indiglo®': 1, 'nightlight': 1, 'function': 1, 'easy': 1, 'viewing': 1, 'lowlight': 1, 'environment': 1, 'mineral': 1, 'crystal': 1, 'window': 1, 'calfskin': 1, 'band': 1, 'secures': 1, 'sturdy': 1, 'buckle': 1, 'clasp': 1, 'relies': 1, 'quartz': 1, 'movement': 1, 'water': 1, 'resistant': 1, '99': 1, 'foot': 1, '30': 1, 'meter': 1}, 1)\n"
     ]
    }
   ],
   "source": [
    "print(testData[0])"
   ]
  },
  {
   "cell_type": "code",
   "execution_count": 56,
   "metadata": {
    "colab": {
     "base_uri": "https://localhost:8080/"
    },
    "executionInfo": {
     "elapsed": 1,
     "status": "ok",
     "timestamp": 1649270150802,
     "user": {
      "displayName": "Aniketh Professional",
      "userId": "18283959475499289192"
     },
     "user_tz": -330
    },
    "id": "SLHjwCwVIza6",
    "outputId": "25a7bffa-b930-4ebe-9b53-48cdf15f5c77"
   },
   "outputs": [
    {
     "name": "stdout",
     "output_type": "stream",
     "text": [
      "[1, 1, 0, 1, 1, 1, 1, 0, 0, 1] [1, 1, 1, 1, 1, 1, 1, 1, 1, 1]\n"
     ]
    }
   ],
   "source": [
    "print(predictions[0:10], true_labels[0:10])"
   ]
  },
  {
   "cell_type": "code",
   "execution_count": 74,
   "metadata": {
    "executionInfo": {
     "elapsed": 365,
     "status": "ok",
     "timestamp": 1649276484842,
     "user": {
      "displayName": "Aniketh Professional",
      "userId": "18283959475499289192"
     },
     "user_tz": -330
    },
    "id": "7m0TwCK1K18J"
   },
   "outputs": [],
   "source": [
    "sample_text = \"really good pc i love it bery much\"\n",
    "sample_rating = '1'\n",
    "xfTestData = []\n",
    "xfTestData.append((toFeatureVector('4', 'N', 'PC', preProcess(sample_text)),sample_rating))"
   ]
  },
  {
   "cell_type": "code",
   "execution_count": 75,
   "metadata": {
    "executionInfo": {
     "elapsed": 2,
     "status": "ok",
     "timestamp": 1649276486420,
     "user": {
      "displayName": "Aniketh Professional",
      "userId": "18283959475499289192"
     },
     "user_tz": -330
    },
    "id": "dP_WAxUCOltb"
   },
   "outputs": [],
   "source": [
    "predictionX = predictLabels(xfTestData, classifier)"
   ]
  },
  {
   "cell_type": "code",
   "execution_count": 76,
   "metadata": {
    "colab": {
     "base_uri": "https://localhost:8080/"
    },
    "executionInfo": {
     "elapsed": 2,
     "status": "ok",
     "timestamp": 1649276487923,
     "user": {
      "displayName": "Aniketh Professional",
      "userId": "18283959475499289192"
     },
     "user_tz": -330
    },
    "id": "ZWgU5hwwOsws",
    "outputId": "26187738-0cf1-4784-dca2-5f30982b0784"
   },
   "outputs": [
    {
     "data": {
      "text/plain": [
       "[1]"
      ]
     },
     "execution_count": 76,
     "metadata": {},
     "output_type": "execute_result"
    }
   ],
   "source": [
    "predictionX"
   ]
  },
  {
   "cell_type": "code",
   "execution_count": 67,
   "metadata": {
    "executionInfo": {
     "elapsed": 1,
     "status": "ok",
     "timestamp": 1649276489347,
     "user": {
      "displayName": "Aniketh Professional",
      "userId": "18283959475499289192"
     },
     "user_tz": -330
    },
    "id": "Tgwz8MLDXYfp"
   },
   "outputs": [],
   "source": [
    "import pickle"
   ]
  },
  {
   "cell_type": "code",
   "execution_count": 68,
   "metadata": {
    "executionInfo": {
     "elapsed": 511,
     "status": "ok",
     "timestamp": 1649276491276,
     "user": {
      "displayName": "Aniketh Professional",
      "userId": "18283959475499289192"
     },
     "user_tz": -330
    },
    "id": "_66shSyHXcf9"
   },
   "outputs": [],
   "source": [
    "with open('predictor.pickle', 'wb') as f:\n",
    "  pickle.dump(predictLabels, f)\n",
    "\n",
    "with open('classifier.pickle', 'wb') as f:\n",
    "  pickle.dump(classifier, f)"
   ]
  },
  {
   "cell_type": "code",
   "execution_count": 69,
   "metadata": {
    "executionInfo": {
     "elapsed": 1,
     "status": "ok",
     "timestamp": 1649276491790,
     "user": {
      "displayName": "Aniketh Professional",
      "userId": "18283959475499289192"
     },
     "user_tz": -330
    },
    "id": "vUqTEkeKf7S9"
   },
   "outputs": [],
   "source": [
    "DATA_PATH = \"/content\"\n",
    "# predictor_pickle = open(DATA_PATH+'/predictor.pickle','rb')\n",
    "predictor_pickle = open('predictor.pickle','rb')\n",
    "best_model2 = pickle.load(predictor_pickle)\n",
    "\n",
    "# classifier_pickle = open(DATA_PATH+'/classifier.pickle','rb')\n",
    "classifier_pickle = open('classifier.pickle','rb')\n",
    "\n",
    "best_model3 = pickle.load(classifier_pickle)"
   ]
  },
  {
   "cell_type": "code",
   "execution_count": 70,
   "metadata": {
    "colab": {
     "base_uri": "https://localhost:8080/"
    },
    "executionInfo": {
     "elapsed": 460,
     "status": "ok",
     "timestamp": 1649276494004,
     "user": {
      "displayName": "Aniketh Professional",
      "userId": "18283959475499289192"
     },
     "user_tz": -330
    },
    "id": "ppa0RCgOgBzC",
    "outputId": "40bcb0ba-31b5-467e-ad06-d7bbfe34147b"
   },
   "outputs": [
    {
     "data": {
      "text/plain": [
       "[0]"
      ]
     },
     "execution_count": 70,
     "metadata": {},
     "output_type": "execute_result"
    }
   ],
   "source": [
    "best_model2(xfTestData, best_model3)"
   ]
  },
  {
   "cell_type": "code",
   "execution_count": null,
   "metadata": {},
   "outputs": [],
   "source": []
  }
 ],
 "metadata": {
  "colab": {
   "authorship_tag": "ABX9TyMieBJvtPeWI24Atc5Zrk/N",
   "collapsed_sections": [],
   "name": "noice code.ipynb",
   "provenance": []
  },
  "kernelspec": {
   "display_name": "Python 3 (ipykernel)",
   "language": "python",
   "name": "python3"
  },
  "language_info": {
   "codemirror_mode": {
    "name": "ipython",
    "version": 3
   },
   "file_extension": ".py",
   "mimetype": "text/x-python",
   "name": "python",
   "nbconvert_exporter": "python",
   "pygments_lexer": "ipython3",
   "version": "3.10.4"
  }
 },
 "nbformat": 4,
 "nbformat_minor": 1
}
