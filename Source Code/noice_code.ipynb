{
 "cells": [
  {
   "cell_type": "code",
   "execution_count": 1,
   "metadata": {
    "colab": {
     "base_uri": "https://localhost:8080/"
    },
    "executionInfo": {
     "elapsed": 3576,
     "status": "ok",
     "timestamp": 1649269906146,
     "user": {
      "displayName": "Aniketh Professional",
      "userId": "18283959475499289192"
     },
     "user_tz": -330
    },
    "id": "AjyhpBiT8RE2",
    "outputId": "2b159d17-bb2e-4dfa-8199-25754e56134d"
   },
   "outputs": [],
   "source": [
    "import pandas as pd\n",
    "# from google.colab import drive\n",
    "# drive.mount('/content/drive')"
   ]
  },
  {
   "cell_type": "code",
   "execution_count": 2,
   "metadata": {
    "executionInfo": {
     "elapsed": 2,
     "status": "ok",
     "timestamp": 1649269906146,
     "user": {
      "displayName": "Aniketh Professional",
      "userId": "18283959475499289192"
     },
     "user_tz": -330
    },
    "id": "RukI1PBb8Vhl"
   },
   "outputs": [],
   "source": [
    "path = \"amazon_reviews_2.txt\""
   ]
  },
  {
   "cell_type": "code",
   "execution_count": 3,
   "metadata": {
    "executionInfo": {
     "elapsed": 686,
     "status": "ok",
     "timestamp": 1649269906830,
     "user": {
      "displayName": "Aniketh Professional",
      "userId": "18283959475499289192"
     },
     "user_tz": -330
    },
    "id": "0UVa8eRS8i03"
   },
   "outputs": [],
   "source": [
    "import pandas as pd\n",
    "import numpy as np\n",
    "# !pip install matplotlib\n",
    "import matplotlib.pyplot as plt\n",
    "# import seaborn as sns\n",
    "# color = sns.color_palette()\n",
    "%matplotlib inline"
   ]
  },
  {
   "cell_type": "code",
   "execution_count": 4,
   "metadata": {
    "executionInfo": {
     "elapsed": 10,
     "status": "ok",
     "timestamp": 1649269906830,
     "user": {
      "displayName": "Aniketh Professional",
      "userId": "18283959475499289192"
     },
     "user_tz": -330
    },
    "id": "_JUWNme08oIx"
   },
   "outputs": [],
   "source": [
    "data = pd.read_csv(path, delimiter=\"\\t\")"
   ]
  },
  {
   "cell_type": "code",
   "execution_count": 74,
   "metadata": {
    "colab": {
     "base_uri": "https://localhost:8080/"
    },
    "executionInfo": {
     "elapsed": 11,
     "status": "ok",
     "timestamp": 1649269906831,
     "user": {
      "displayName": "Aniketh Professional",
      "userId": "18283959475499289192"
     },
     "user_tz": -330
    },
    "id": "Tv6GZuqR8y2O",
    "outputId": "2345da9f-37fb-4480-f7ce-9418f6095d1a"
   },
   "outputs": [
    {
     "data": {
      "text/plain": [
       "'When least you think so, this product will save the day. Just keep it around just in case you need it for something.'"
      ]
     },
     "execution_count": 74,
     "metadata": {},
     "output_type": "execute_result"
    }
   ],
   "source": [
    "data.head()\n",
    "data.columns\n",
    "data['REVIEW_TEXT'][0]"
   ]
  },
  {
   "cell_type": "code",
   "execution_count": 6,
   "metadata": {
    "executionInfo": {
     "elapsed": 9,
     "status": "ok",
     "timestamp": 1649269906831,
     "user": {
      "displayName": "Aniketh Professional",
      "userId": "18283959475499289192"
     },
     "user_tz": -330
    },
    "id": "aGxPht3189jY"
   },
   "outputs": [],
   "source": [
    "data.loc[data[\"LABEL\"] == \"__label1__\", \"LABEL\"] = '1'\n",
    "data.loc[data[\"LABEL\"] == \"__label2__\", \"LABEL\"] = '0'"
   ]
  },
  {
   "cell_type": "code",
   "execution_count": 7,
   "metadata": {
    "executionInfo": {
     "elapsed": 9,
     "status": "ok",
     "timestamp": 1649269906831,
     "user": {
      "displayName": "Aniketh Professional",
      "userId": "18283959475499289192"
     },
     "user_tz": -330
    },
    "id": "7U9HThX68__P"
   },
   "outputs": [],
   "source": [
    "# data.head()"
   ]
  },
  {
   "cell_type": "code",
   "execution_count": 8,
   "metadata": {
    "colab": {
     "base_uri": "https://localhost:8080/"
    },
    "executionInfo": {
     "elapsed": 9,
     "status": "ok",
     "timestamp": 1649269906831,
     "user": {
      "displayName": "Aniketh Professional",
      "userId": "18283959475499289192"
     },
     "user_tz": -330
    },
    "id": "gS0Zv9-e9CsU",
    "outputId": "94a0d3e8-19ad-4aab-e57b-043a493f2dee"
   },
   "outputs": [
    {
     "data": {
      "text/plain": [
       "9726"
      ]
     },
     "execution_count": 8,
     "metadata": {},
     "output_type": "execute_result"
    }
   ],
   "source": [
    "len(data)"
   ]
  },
  {
   "cell_type": "code",
   "execution_count": 9,
   "metadata": {
    "colab": {
     "base_uri": "https://localhost:8080/"
    },
    "executionInfo": {
     "elapsed": 7,
     "status": "ok",
     "timestamp": 1649269906831,
     "user": {
      "displayName": "Aniketh Professional",
      "userId": "18283959475499289192"
     },
     "user_tz": -330
    },
    "id": "73U0Ix5C9GMy",
    "outputId": "591696d6-a228-423d-b638-7fedb5a8cf7f"
   },
   "outputs": [],
   "source": [
    "cnt_srs=data.groupby(data[\"LABEL\"]).PRODUCT_CATEGORY.value_counts()\n",
    "# cnt_srs"
   ]
  },
  {
   "cell_type": "code",
   "execution_count": 10,
   "metadata": {
    "executionInfo": {
     "elapsed": 6,
     "status": "ok",
     "timestamp": 1649269906831,
     "user": {
      "displayName": "Aniketh Professional",
      "userId": "18283959475499289192"
     },
     "user_tz": -330
    },
    "id": "9Ip6gGjW9OxP"
   },
   "outputs": [],
   "source": [
    "# plt.figure(figsize=(16,8))\n",
    "# sns.barplot(cnt_srs.values, cnt_srs.index, alpha=0.8, color=color[1])\n",
    "# plt.ylabel('Number of Occurrences', fontsize=16)\n",
    "# plt.xlabel('(Label, Product Category)', fontsize=16)\n",
    "# plt.title('Label Vs Product Category', fontsize=18)\n",
    "# plt.xticks(rotation='vertical')\n",
    "# plt.show()"
   ]
  },
  {
   "cell_type": "code",
   "execution_count": 11,
   "metadata": {
    "executionInfo": {
     "elapsed": 7,
     "status": "ok",
     "timestamp": 1649269906832,
     "user": {
      "displayName": "Aniketh Professional",
      "userId": "18283959475499289192"
     },
     "user_tz": -330
    },
    "id": "A6lH0hw7-bRI"
   },
   "outputs": [],
   "source": [
    "# cnt_srs = data.groupby(data[\"LABEL\"]).RATING.value_counts()\n",
    "# cnt_srs\n",
    "# plt.figure(figsize=(16,8))\n",
    "# sns.barplot(cnt_srs.index, cnt_srs.values, alpha=0.8, color=color[1])\n",
    "# plt.ylabel('Number of Occurrences', fontsize=16)\n",
    "# plt.xlabel('(Label, Rating)', fontsize=16)\n",
    "# plt.title('Label Vs Rating', fontsize=18)\n",
    "# plt.xticks(rotation='horizontal')\n",
    "# plt.show()"
   ]
  },
  {
   "cell_type": "code",
   "execution_count": 12,
   "metadata": {
    "colab": {
     "base_uri": "https://localhost:8080/"
    },
    "executionInfo": {
     "elapsed": 7,
     "status": "ok",
     "timestamp": 1649269906832,
     "user": {
      "displayName": "Aniketh Professional",
      "userId": "18283959475499289192"
     },
     "user_tz": -330
    },
    "id": "12aGKqCFBNyx",
    "outputId": "c75313a1-f2d1-4d4e-c63c-ae9a33fd87fe"
   },
   "outputs": [
    {
     "name": "stdout",
     "output_type": "stream",
     "text": [
      "<pandas.core.groupby.generic.SeriesGroupBy object at 0x000001ED18821BA0>\n"
     ]
    },
    {
     "data": {
      "text/plain": [
       "0        116\n",
       "1        404\n",
       "2        248\n",
       "3        212\n",
       "4        331\n",
       "        ... \n",
       "9721     227\n",
       "9722     180\n",
       "9723    1849\n",
       "9724     187\n",
       "9725     554\n",
       "Name: TEXT_LENGTH, Length: 9726, dtype: int64"
      ]
     },
     "execution_count": 12,
     "metadata": {},
     "output_type": "execute_result"
    }
   ],
   "source": [
    "df1 = data.groupby(\"LABEL\").REVIEW_TEXT\n",
    "print(df1)\n",
    "data[\"TEXT_LENGTH\"] = data['REVIEW_TEXT'].apply(len)\n",
    "data.columns\n",
    "data['TEXT_LENGTH']"
   ]
  },
  {
   "cell_type": "code",
   "execution_count": 13,
   "metadata": {
    "colab": {
     "base_uri": "https://localhost:8080/"
    },
    "executionInfo": {
     "elapsed": 6,
     "status": "ok",
     "timestamp": 1649269906832,
     "user": {
      "displayName": "Aniketh Professional",
      "userId": "18283959475499289192"
     },
     "user_tz": -330
    },
    "id": "M2VUzFdLB0Hl",
    "outputId": "9a234802-476f-4726-9815-bb2f636814e7"
   },
   "outputs": [
    {
     "data": {
      "text/plain": [
       "LABEL\n",
       "1    313.780485\n",
       "Name: TEXT_LENGTH, dtype: float64"
      ]
     },
     "execution_count": 13,
     "metadata": {},
     "output_type": "execute_result"
    }
   ],
   "source": [
    "#average length of labelled data\n",
    "cnt_srs = data.groupby([\"LABEL\"]).TEXT_LENGTH.agg(lambda x: sum(x)/len(x))\n",
    "cnt_srs"
   ]
  },
  {
   "cell_type": "code",
   "execution_count": 14,
   "metadata": {
    "colab": {
     "base_uri": "https://localhost:8080/"
    },
    "executionInfo": {
     "elapsed": 5,
     "status": "ok",
     "timestamp": 1649269906832,
     "user": {
      "displayName": "Aniketh Professional",
      "userId": "18283959475499289192"
     },
     "user_tz": -330
    },
    "id": "j9mfbCgoCZC0",
    "outputId": "266be89d-83bd-47a0-e1d4-842d1d1a8d46"
   },
   "outputs": [
    {
     "data": {
      "text/plain": [
       "0        3\n",
       "1        4\n",
       "2        6\n",
       "3        5\n",
       "4        4\n",
       "        ..\n",
       "9721     2\n",
       "9722     3\n",
       "9723    31\n",
       "9724     4\n",
       "9725     6\n",
       "Name: num_sentences, Length: 9726, dtype: int64"
      ]
     },
     "execution_count": 14,
     "metadata": {},
     "output_type": "execute_result"
    }
   ],
   "source": [
    "#total number of sentences\n",
    "data['num_sentences'] = data['REVIEW_TEXT'].apply(lambda x: len(str(x).split('.')))\n",
    "data['num_sentences']"
   ]
  },
  {
   "cell_type": "code",
   "execution_count": 15,
   "metadata": {
    "colab": {
     "base_uri": "https://localhost:8080/"
    },
    "executionInfo": {
     "elapsed": 4654,
     "status": "ok",
     "timestamp": 1649269911482,
     "user": {
      "displayName": "Aniketh Professional",
      "userId": "18283959475499289192"
     },
     "user_tz": -330
    },
    "id": "KPHANfHVC-Wa",
    "outputId": "d9204976-77d6-4507-9b04-00127408a40b"
   },
   "outputs": [],
   "source": [
    "# !pip install textstat\n",
    "import textstat"
   ]
  },
  {
   "cell_type": "code",
   "execution_count": 16,
   "metadata": {
    "executionInfo": {
     "elapsed": 8382,
     "status": "ok",
     "timestamp": 1649269919857,
     "user": {
      "displayName": "Aniketh Professional",
      "userId": "18283959475499289192"
     },
     "user_tz": -330
    },
    "id": "7WWLNWzLDDR0"
   },
   "outputs": [],
   "source": [
    "#readability score\n",
    "from textstat.textstat import textstat\n",
    "#fk score -> readability score\n",
    "\n",
    "data[\"FK_Score\"] = data[\"REVIEW_TEXT\"].apply(textstat.flesch_kincaid_grade)"
   ]
  },
  {
   "cell_type": "code",
   "execution_count": 17,
   "metadata": {
    "colab": {
     "base_uri": "https://localhost:8080/"
    },
    "executionInfo": {
     "elapsed": 630,
     "status": "ok",
     "timestamp": 1649269920485,
     "user": {
      "displayName": "Aniketh Professional",
      "userId": "18283959475499289192"
     },
     "user_tz": -330
    },
    "id": "GyDQX6T3DTd6",
    "outputId": "496a7198-ff78-4d72-a2cb-21ce5d262255"
   },
   "outputs": [
    {
     "name": "stderr",
     "output_type": "stream",
     "text": [
      "[nltk_data] Downloading package stopwords to C:\\Users\\Amar\n",
      "[nltk_data]     Anikethvarma\\AppData\\Roaming\\nltk_data...\n",
      "[nltk_data]   Package stopwords is already up-to-date!\n"
     ]
    }
   ],
   "source": [
    "#textual processing\n",
    "# !pip install nltk\n",
    "import nltk\n",
    "nltk.download('stopwords')\n",
    "wpt = nltk.WordPunctTokenizer()\n",
    "stop_words = nltk.corpus.stopwords.words(\"english\")"
   ]
  },
  {
   "cell_type": "code",
   "execution_count": 18,
   "metadata": {
    "executionInfo": {
     "elapsed": 3811,
     "status": "ok",
     "timestamp": 1649269924295,
     "user": {
      "displayName": "Aniketh Professional",
      "userId": "18283959475499289192"
     },
     "user_tz": -330
    },
    "id": "BlNx73ghEKaf"
   },
   "outputs": [],
   "source": [
    "#stopword counts\n",
    "def stopword_counts(sent):\n",
    "  summ = 0\n",
    "  for char in sent.split():\n",
    "    summ += char in stop_words\n",
    "  return summ\n",
    "\n",
    "data['stop_count'] = data['REVIEW_TEXT'].apply(stopword_counts)"
   ]
  },
  {
   "cell_type": "code",
   "execution_count": 19,
   "metadata": {
    "colab": {
     "base_uri": "https://localhost:8080/"
    },
    "executionInfo": {
     "elapsed": 4,
     "status": "ok",
     "timestamp": 1649269924295,
     "user": {
      "displayName": "Aniketh Professional",
      "userId": "18283959475499289192"
     },
     "user_tz": -330
    },
    "id": "4Wzn482JEuLc",
    "outputId": "a9436f04-e183-441e-f096-e5843b4dcd5e"
   },
   "outputs": [
    {
     "data": {
      "text/plain": [
       "0        10\n",
       "1        28\n",
       "2        25\n",
       "3        18\n",
       "4        34\n",
       "       ... \n",
       "9721     14\n",
       "9722     13\n",
       "9723    118\n",
       "9724     13\n",
       "9725     54\n",
       "Name: stop_count, Length: 9726, dtype: int64"
      ]
     },
     "execution_count": 19,
     "metadata": {},
     "output_type": "execute_result"
    }
   ],
   "source": [
    "data['stop_count']"
   ]
  },
  {
   "cell_type": "code",
   "execution_count": 20,
   "metadata": {
    "executionInfo": {
     "elapsed": 635,
     "status": "ok",
     "timestamp": 1649269924928,
     "user": {
      "displayName": "Aniketh Professional",
      "userId": "18283959475499289192"
     },
     "user_tz": -330
    },
    "id": "mUtxDQRwE8zr"
   },
   "outputs": [],
   "source": [
    "#caps lock counts\n",
    "def capital_counts(x):\n",
    "    summ =0\n",
    "    for char in x:\n",
    "        summ+= char in \"QWERTYUIOPASDFGHJKLZXCVBNM\"\n",
    "    return summ\n",
    "data['caps_count'] = data['REVIEW_TEXT'].apply(capital_counts)"
   ]
  },
  {
   "cell_type": "code",
   "execution_count": 21,
   "metadata": {
    "colab": {
     "base_uri": "https://localhost:8080/"
    },
    "executionInfo": {
     "elapsed": 3,
     "status": "ok",
     "timestamp": 1649269924928,
     "user": {
      "displayName": "Aniketh Professional",
      "userId": "18283959475499289192"
     },
     "user_tz": -330
    },
    "id": "vkMl4d3fFVPO",
    "outputId": "0428331a-5f7e-447e-9314-3a99d4dfa8bf"
   },
   "outputs": [
    {
     "data": {
      "text/plain": [
       "0        2\n",
       "1        4\n",
       "2        6\n",
       "3        6\n",
       "4        4\n",
       "        ..\n",
       "9721     8\n",
       "9722     2\n",
       "9723    97\n",
       "9724     4\n",
       "9725     8\n",
       "Name: caps_count, Length: 9726, dtype: int64"
      ]
     },
     "execution_count": 21,
     "metadata": {},
     "output_type": "execute_result"
    }
   ],
   "source": [
    "data['caps_count']"
   ]
  },
  {
   "cell_type": "code",
   "execution_count": 22,
   "metadata": {
    "executionInfo": {
     "elapsed": 29576,
     "status": "ok",
     "timestamp": 1649269954503,
     "user": {
      "displayName": "Aniketh Professional",
      "userId": "18283959475499289192"
     },
     "user_tz": -330
    },
    "id": "jyE9e5dA51QO"
   },
   "outputs": [],
   "source": [
    "#check if product name matches something written in text\n",
    "import re\n",
    "import string\n",
    "match_list = []\n",
    "\n",
    "def checkName(title,text):\n",
    "    matches = []\n",
    "    for word in title.split():\n",
    "        #removing punctuation\n",
    "        word = \"\".join((char for char in word if char not in string.punctuation))\n",
    "        #print(word)\n",
    "        myreg = r'\\b'+word+r'\\b'\n",
    "        r = re.compile(myreg, flags=re.I | re.X)\n",
    "        matches.append(r.findall(text))\n",
    "    return len(matches)\n",
    "        \n",
    "\n",
    "for a,b in zip(data.PRODUCT_TITLE, data.REVIEW_TEXT):\n",
    "    number_of_matches = checkName(a,b)\n",
    "    match_list.append(number_of_matches)\n",
    "    \n",
    "data[\"matchesDf\"] = match_list"
   ]
  },
  {
   "cell_type": "code",
   "execution_count": 23,
   "metadata": {
    "colab": {
     "base_uri": "https://localhost:8080/"
    },
    "executionInfo": {
     "elapsed": 13,
     "status": "ok",
     "timestamp": 1649269954503,
     "user": {
      "displayName": "Aniketh Professional",
      "userId": "18283959475499289192"
     },
     "user_tz": -330
    },
    "id": "ActVHO3K59NA",
    "outputId": "ac0b67cc-660d-438a-caba-2c075df13bdd"
   },
   "outputs": [
    {
     "name": "stdout",
     "output_type": "stream",
     "text": [
      "0        7\n",
      "1       24\n",
      "2        5\n",
      "3        6\n",
      "4       11\n",
      "        ..\n",
      "9721    11\n",
      "9722     7\n",
      "9723    10\n",
      "9724     5\n",
      "9725    10\n",
      "Name: matchesDf, Length: 9726, dtype: int64\n",
      "Targus PAUK10U Ultra Mini USB Keypad, Black When least you think so, this product will save the day. Just keep it around just in case you need it for something.\n"
     ]
    }
   ],
   "source": [
    "print(data[\"matchesDf\"])\n",
    "print(data[\"PRODUCT_TITLE\"][0], data[\"REVIEW_TEXT\"][0])"
   ]
  },
  {
   "cell_type": "code",
   "execution_count": 24,
   "metadata": {
    "executionInfo": {
     "elapsed": 12,
     "status": "ok",
     "timestamp": 1649269954503,
     "user": {
      "displayName": "Aniketh Professional",
      "userId": "18283959475499289192"
     },
     "user_tz": -330
    },
    "id": "wxDEcwuS6Rmk"
   },
   "outputs": [],
   "source": [
    "#counting emojis\n",
    "data[\"emojis\"] = data[\"REVIEW_TEXT\"].apply(lambda x: 1 if \";)\" in x.split() or \":)\" in x.split() or \":-)\" in x.split() else 0)"
   ]
  },
  {
   "cell_type": "code",
   "execution_count": 25,
   "metadata": {
    "colab": {
     "base_uri": "https://localhost:8080/",
     "height": 35
    },
    "executionInfo": {
     "elapsed": 11,
     "status": "ok",
     "timestamp": 1649269954503,
     "user": {
      "displayName": "Aniketh Professional",
      "userId": "18283959475499289192"
     },
     "user_tz": -330
    },
    "id": "u_mglLdn7Axx",
    "outputId": "dbf76b75-05c0-4e91-df69-d6944fc60503"
   },
   "outputs": [
    {
     "data": {
      "text/plain": [
       "'\\nsentiment classifier\\n'"
      ]
     },
     "execution_count": 25,
     "metadata": {},
     "output_type": "execute_result"
    }
   ],
   "source": [
    "'''\n",
    "sentiment classifier\n",
    "'''"
   ]
  },
  {
   "cell_type": "code",
   "execution_count": 26,
   "metadata": {
    "executionInfo": {
     "elapsed": 12,
     "status": "ok",
     "timestamp": 1649269954504,
     "user": {
      "displayName": "Aniketh Professional",
      "userId": "18283959475499289192"
     },
     "user_tz": -330
    },
    "id": "5Da1VhUP7Gjn"
   },
   "outputs": [],
   "source": [
    "#get sentiments\n",
    "data.loc[data[\"RATING\"] < 3, \"RATING\"] = 0\n",
    "data.loc[data[\"RATING\"] > 3, \"RATING\"] = 1"
   ]
  },
  {
   "cell_type": "code",
   "execution_count": 27,
   "metadata": {
    "colab": {
     "base_uri": "https://localhost:8080/"
    },
    "executionInfo": {
     "elapsed": 11,
     "status": "ok",
     "timestamp": 1649269954504,
     "user": {
      "displayName": "Aniketh Professional",
      "userId": "18283959475499289192"
     },
     "user_tz": -330
    },
    "id": "6pKuQqip7MZw",
    "outputId": "fcb77b09-f782-4631-e34b-96dfb797cd35"
   },
   "outputs": [
    {
     "data": {
      "text/plain": [
       "1    7333\n",
       "0    1516\n",
       "3     877\n",
       "Name: RATING, dtype: int64"
      ]
     },
     "execution_count": 27,
     "metadata": {},
     "output_type": "execute_result"
    }
   ],
   "source": [
    "data.RATING.value_counts()"
   ]
  },
  {
   "cell_type": "code",
   "execution_count": 28,
   "metadata": {
    "colab": {
     "base_uri": "https://localhost:8080/"
    },
    "executionInfo": {
     "elapsed": 10,
     "status": "ok",
     "timestamp": 1649269954504,
     "user": {
      "displayName": "Aniketh Professional",
      "userId": "18283959475499289192"
     },
     "user_tz": -330
    },
    "id": "2Oi9eGrF7UXa",
    "outputId": "cff71682-4b63-49a0-a4e3-f16353c721fd"
   },
   "outputs": [
    {
     "name": "stdout",
     "output_type": "stream",
     "text": [
      "7333\n",
      "1467\n"
     ]
    }
   ],
   "source": [
    "data1 = data.loc[data['RATING'] == 1]\n",
    "print(len(data1))\n",
    "data2 = data1.sample(frac=0.2, replace=True)\n",
    "print(len(data2))\n",
    "data3 = data1 = data.loc[data['RATING'] == 0]"
   ]
  },
  {
   "cell_type": "code",
   "execution_count": 29,
   "metadata": {
    "colab": {
     "base_uri": "https://localhost:8080/"
    },
    "executionInfo": {
     "elapsed": 9,
     "status": "ok",
     "timestamp": 1649269954504,
     "user": {
      "displayName": "Aniketh Professional",
      "userId": "18283959475499289192"
     },
     "user_tz": -330
    },
    "id": "Qe0xaTNC7jDM",
    "outputId": "b20ced27-bdcf-459d-8a12-b8087cd36a44"
   },
   "outputs": [
    {
     "data": {
      "text/plain": [
       "Index(['DOC_ID', 'LABEL', 'RATING', 'VERIFIED_PURCHASE', 'PRODUCT_CATEGORY',\n",
       "       'PRODUCT_ID', 'PRODUCT_TITLE', 'REVIEW_TITLE', 'REVIEW_TEXT',\n",
       "       'TEXT_LENGTH', 'num_sentences', 'FK_Score', 'stop_count', 'caps_count',\n",
       "       'matchesDf', 'emojis'],\n",
       "      dtype='object')"
      ]
     },
     "execution_count": 29,
     "metadata": {},
     "output_type": "execute_result"
    }
   ],
   "source": [
    "data.columns"
   ]
  },
  {
   "cell_type": "code",
   "execution_count": 30,
   "metadata": {
    "executionInfo": {
     "elapsed": 9,
     "status": "ok",
     "timestamp": 1649269954505,
     "user": {
      "displayName": "Aniketh Professional",
      "userId": "18283959475499289192"
     },
     "user_tz": -330
    },
    "id": "XzLzhdL-7lhq"
   },
   "outputs": [],
   "source": [
    "#data"
   ]
  },
  {
   "cell_type": "code",
   "execution_count": 31,
   "metadata": {
    "executionInfo": {
     "elapsed": 8,
     "status": "ok",
     "timestamp": 1649269954505,
     "user": {
      "displayName": "Aniketh Professional",
      "userId": "18283959475499289192"
     },
     "user_tz": -330
    },
    "id": "yeFKy1Wv7pjK"
   },
   "outputs": [],
   "source": [
    "data4 = pd.concat([data2, data3], ignore_index=True)"
   ]
  },
  {
   "cell_type": "code",
   "execution_count": 32,
   "metadata": {
    "colab": {
     "base_uri": "https://localhost:8080/"
    },
    "executionInfo": {
     "elapsed": 8,
     "status": "ok",
     "timestamp": 1649269954505,
     "user": {
      "displayName": "Aniketh Professional",
      "userId": "18283959475499289192"
     },
     "user_tz": -330
    },
    "id": "Mjg9cICw9KW6",
    "outputId": "aaecef97-ba5e-47b4-9598-e5bfef5573cf"
   },
   "outputs": [
    {
     "name": "stderr",
     "output_type": "stream",
     "text": [
      "[nltk_data] Downloading package punkt to C:\\Users\\Amar\n",
      "[nltk_data]     Anikethvarma\\AppData\\Roaming\\nltk_data...\n",
      "[nltk_data]   Package punkt is already up-to-date!\n"
     ]
    },
    {
     "data": {
      "text/plain": [
       "True"
      ]
     },
     "execution_count": 32,
     "metadata": {},
     "output_type": "execute_result"
    }
   ],
   "source": [
    "import csv                             \n",
    "from sklearn.svm import LinearSVC\n",
    "from nltk.classify import SklearnClassifier\n",
    "from random import shuffle\n",
    "from sklearn.pipeline import Pipeline\n",
    "from sklearn.feature_extraction.text import CountVectorizer\n",
    "from sklearn.metrics import precision_recall_fscore_support\n",
    "from sklearn.metrics import accuracy_score\n",
    "import numpy as np\n",
    "# !pip uninstall nltk\n",
    "# !pip install nltk\n",
    "\n",
    "import nltk\n",
    "import string\n",
    "from nltk.corpus import stopwords\n",
    "from nltk.tokenize import RegexpTokenizer\n",
    "from nltk.stem import WordNetLemmatizer\n",
    "from sklearn.feature_extraction.text import TfidfVectorizer\n",
    "from nltk.util import ngrams\n",
    "from nltk.tokenize import word_tokenize\n",
    "nltk.download('punkt')"
   ]
  },
  {
   "cell_type": "code",
   "execution_count": 33,
   "metadata": {
    "executionInfo": {
     "elapsed": 7,
     "status": "ok",
     "timestamp": 1649269954505,
     "user": {
      "displayName": "Aniketh Professional",
      "userId": "18283959475499289192"
     },
     "user_tz": -330
    },
    "id": "9xQSIc8I936T"
   },
   "outputs": [],
   "source": [
    "rawData = data4[[\"REVIEW_TEXT\", \"RATING\"]]\n",
    "rawData = [tuple(x) for x in rawData.values]"
   ]
  },
  {
   "cell_type": "code",
   "execution_count": 34,
   "metadata": {
    "colab": {
     "base_uri": "https://localhost:8080/"
    },
    "executionInfo": {
     "elapsed": 6,
     "status": "ok",
     "timestamp": 1649269954505,
     "user": {
      "displayName": "Aniketh Professional",
      "userId": "18283959475499289192"
     },
     "user_tz": -330
    },
    "id": "7lB6tv5w97tF",
    "outputId": "e44bee32-2b94-4dcf-8f56-89482b2dafa2"
   },
   "outputs": [
    {
     "name": "stdout",
     "output_type": "stream",
     "text": [
      "2983\n"
     ]
    }
   ],
   "source": [
    "print(len(rawData))"
   ]
  },
  {
   "cell_type": "code",
   "execution_count": 35,
   "metadata": {
    "executionInfo": {
     "elapsed": 5,
     "status": "ok",
     "timestamp": 1649269954505,
     "user": {
      "displayName": "Aniketh Professional",
      "userId": "18283959475499289192"
     },
     "user_tz": -330
    },
    "id": "lIcxxNCG-Ek4"
   },
   "outputs": [],
   "source": [
    "table = str.maketrans({key: None for key in string.punctuation})\n",
    "# table"
   ]
  },
  {
   "cell_type": "code",
   "execution_count": 36,
   "metadata": {
    "executionInfo": {
     "elapsed": 6,
     "status": "ok",
     "timestamp": 1649269954506,
     "user": {
      "displayName": "Aniketh Professional",
      "userId": "18283959475499289192"
     },
     "user_tz": -330
    },
    "id": "cSGTSddC_E67"
   },
   "outputs": [],
   "source": [
    "def preProcess(text):\n",
    "    # Should return a list of tokens\n",
    "    lemmatizer = WordNetLemmatizer()\n",
    "    filtered_tokens=[]\n",
    "    lemmatized_tokens = []\n",
    "    stop_words = set(stopwords.words('english'))\n",
    "    text = text.translate(table)\n",
    "    for w in text.split(\" \"):\n",
    "        if w not in stop_words:\n",
    "            lemmatized_tokens.append(lemmatizer.lemmatize(w.lower()))\n",
    "        filtered_tokens = [' '.join(l) for l in nltk.bigrams(lemmatized_tokens)] + lemmatized_tokens\n",
    "    return filtered_tokens"
   ]
  },
  {
   "cell_type": "code",
   "execution_count": 37,
   "metadata": {
    "executionInfo": {
     "elapsed": 654,
     "status": "ok",
     "timestamp": 1649269955154,
     "user": {
      "displayName": "Aniketh Professional",
      "userId": "18283959475499289192"
     },
     "user_tz": -330
    },
    "id": "6v1XrubQ_I3v"
   },
   "outputs": [],
   "source": [
    "featureDict = {} # A global dictionary of features\n",
    "\n",
    "def toFeatureVector(tokens):\n",
    "    localDict = {}\n",
    "    for token in tokens:\n",
    "        if token not in featureDict:\n",
    "            featureDict[token] = 1\n",
    "        else:\n",
    "            featureDict[token] = +1\n",
    "   \n",
    "        if token not in localDict:\n",
    "            localDict[token] = 1\n",
    "        else:\n",
    "            localDict[token] = +1\n",
    "    \n",
    "    return localDict"
   ]
  },
  {
   "cell_type": "code",
   "execution_count": 38,
   "metadata": {
    "executionInfo": {
     "elapsed": 6,
     "status": "ok",
     "timestamp": 1649269955155,
     "user": {
      "displayName": "Aniketh Professional",
      "userId": "18283959475499289192"
     },
     "user_tz": -330
    },
    "id": "Cea7sAce_K_o"
   },
   "outputs": [],
   "source": [
    "def crossValidate(dataset, folds):\n",
    "    shuffle(dataset)\n",
    "    cv_results = []\n",
    "    foldSize = int(len(dataset)/folds)\n",
    "    for i in range(0,len(dataset),foldSize):\n",
    "        classifier = trainClassifier(dataset[:i]+dataset[foldSize+i:])\n",
    "        y_pred = predictLabels(dataset[i:i+foldSize],classifier)\n",
    "        a = accuracy_score(list(map(lambda d : d[1], dataset[i:i+foldSize])), y_pred)\n",
    "        (p,r,f,_) = precision_recall_fscore_support(list(map(lambda d : d[1], dataset[i:i+foldSize])), y_pred, average ='macro')\n",
    "        #print(a,p,r,f)\n",
    "        cv_results.append((a,p,r,f))\n",
    "    cv_results = (np.mean(np.array(cv_results),axis=0))\n",
    "    return cv_results"
   ]
  },
  {
   "cell_type": "code",
   "execution_count": 39,
   "metadata": {
    "executionInfo": {
     "elapsed": 6,
     "status": "ok",
     "timestamp": 1649269955155,
     "user": {
      "displayName": "Aniketh Professional",
      "userId": "18283959475499289192"
     },
     "user_tz": -330
    },
    "id": "q0B07fCw_Mwt"
   },
   "outputs": [],
   "source": [
    "def splitData(percentage):\n",
    "    dataSamples = len(rawData)\n",
    "    halfOfData = int(len(rawData)//2)\n",
    "    trainingSamples = int((percentage*dataSamples)/2)\n",
    "    for (Text, Label) in rawData[:trainingSamples] + rawData[halfOfData:halfOfData+trainingSamples]:\n",
    "        trainData.append((toFeatureVector(preProcess(Text)),Label))\n",
    "    for (Text, Label) in rawData[trainingSamples:halfOfData] + rawData[halfOfData+trainingSamples:]:\n",
    "        testData.append((toFeatureVector(preProcess(Text)),Label))"
   ]
  },
  {
   "cell_type": "code",
   "execution_count": 40,
   "metadata": {
    "executionInfo": {
     "elapsed": 5,
     "status": "ok",
     "timestamp": 1649269955155,
     "user": {
      "displayName": "Aniketh Professional",
      "userId": "18283959475499289192"
     },
     "user_tz": -330
    },
    "id": "o4zfp-7F_PD4"
   },
   "outputs": [],
   "source": [
    "def trainClassifier(trainData):\n",
    "    print(\"Training Classifier...\")\n",
    "    pipeline =  Pipeline([('svc', LinearSVC(C=0.01))])\n",
    "    return SklearnClassifier(pipeline).train(trainData)"
   ]
  },
  {
   "cell_type": "code",
   "execution_count": 41,
   "metadata": {
    "executionInfo": {
     "elapsed": 5,
     "status": "ok",
     "timestamp": 1649269955155,
     "user": {
      "displayName": "Aniketh Professional",
      "userId": "18283959475499289192"
     },
     "user_tz": -330
    },
    "id": "Pz39PSjr_Pud"
   },
   "outputs": [],
   "source": [
    "\n",
    "def predictLabels(reviewSamples, classifier):\n",
    "    return classifier.classify_many(map(lambda t: t[0], reviewSamples))"
   ]
  },
  {
   "cell_type": "code",
   "execution_count": 42,
   "metadata": {
    "colab": {
     "base_uri": "https://localhost:8080/"
    },
    "executionInfo": {
     "elapsed": 5,
     "status": "ok",
     "timestamp": 1649269955155,
     "user": {
      "displayName": "Aniketh Professional",
      "userId": "18283959475499289192"
     },
     "user_tz": -330
    },
    "id": "VsXCLDEjBLzk",
    "outputId": "f905a863-6535-48f7-c330-e9587ed48103"
   },
   "outputs": [
    {
     "name": "stderr",
     "output_type": "stream",
     "text": [
      "[nltk_data] Downloading package wordnet to C:\\Users\\Amar\n",
      "[nltk_data]     Anikethvarma\\AppData\\Roaming\\nltk_data...\n",
      "[nltk_data]   Package wordnet is already up-to-date!\n"
     ]
    },
    {
     "data": {
      "text/plain": [
       "True"
      ]
     },
     "execution_count": 42,
     "metadata": {},
     "output_type": "execute_result"
    }
   ],
   "source": [
    "import nltk\n",
    "nltk.download('wordnet')\n",
    "\n"
   ]
  },
  {
   "cell_type": "code",
   "execution_count": 43,
   "metadata": {
    "colab": {
     "base_uri": "https://localhost:8080/"
    },
    "executionInfo": {
     "elapsed": 5,
     "status": "ok",
     "timestamp": 1649269955156,
     "user": {
      "displayName": "Aniketh Professional",
      "userId": "18283959475499289192"
     },
     "user_tz": -330
    },
    "id": "aYh8PcI9Egl_",
    "outputId": "aefc8192-b163-41da-ab5f-b39575f405ef"
   },
   "outputs": [
    {
     "name": "stderr",
     "output_type": "stream",
     "text": [
      "[nltk_data] Downloading package omw-1.4 to C:\\Users\\Amar\n",
      "[nltk_data]     Anikethvarma\\AppData\\Roaming\\nltk_data...\n",
      "[nltk_data]   Package omw-1.4 is already up-to-date!\n"
     ]
    },
    {
     "data": {
      "text/plain": [
       "True"
      ]
     },
     "execution_count": 43,
     "metadata": {},
     "output_type": "execute_result"
    }
   ],
   "source": [
    "nltk.download('omw-1.4')"
   ]
  },
  {
   "cell_type": "code",
   "execution_count": 66,
   "metadata": {
    "colab": {
     "base_uri": "https://localhost:8080/"
    },
    "executionInfo": {
     "elapsed": 20711,
     "status": "ok",
     "timestamp": 1649269975863,
     "user": {
      "displayName": "Aniketh Professional",
      "userId": "18283959475499289192"
     },
     "user_tz": -330
    },
    "id": "eKB79urHBciF",
    "outputId": "c62b71b2-d4b5-4601-966a-eb126fa1b460"
   },
   "outputs": [
    {
     "name": "stdout",
     "output_type": "stream",
     "text": [
      "Now 2983 rawData, 0 trainData, 0 testData\n",
      "Preparing training and test data...\n",
      "Now 2983 rawData, 2386 trainData, 597 testData\n",
      "Training Samples: \n",
      "2386\n",
      "Features: \n",
      "44\n",
      "Training Classifier...\n"
     ]
    },
    {
     "name": "stderr",
     "output_type": "stream",
     "text": [
      "C:\\Users\\Amar Anikethvarma\\AppData\\Local\\Programs\\Python\\Python310\\lib\\site-packages\\sklearn\\svm\\_base.py:1206: ConvergenceWarning: Liblinear failed to converge, increase the number of iterations.\n",
      "  warnings.warn(\n"
     ]
    },
    {
     "name": "stdout",
     "output_type": "stream",
     "text": [
      "Training Classifier...\n"
     ]
    },
    {
     "name": "stderr",
     "output_type": "stream",
     "text": [
      "C:\\Users\\Amar Anikethvarma\\AppData\\Local\\Programs\\Python\\Python310\\lib\\site-packages\\sklearn\\svm\\_base.py:1206: ConvergenceWarning: Liblinear failed to converge, increase the number of iterations.\n",
      "  warnings.warn(\n"
     ]
    },
    {
     "name": "stdout",
     "output_type": "stream",
     "text": [
      "Training Classifier...\n"
     ]
    },
    {
     "name": "stderr",
     "output_type": "stream",
     "text": [
      "C:\\Users\\Amar Anikethvarma\\AppData\\Local\\Programs\\Python\\Python310\\lib\\site-packages\\sklearn\\svm\\_base.py:1206: ConvergenceWarning: Liblinear failed to converge, increase the number of iterations.\n",
      "  warnings.warn(\n"
     ]
    },
    {
     "name": "stdout",
     "output_type": "stream",
     "text": [
      "Training Classifier...\n"
     ]
    },
    {
     "name": "stderr",
     "output_type": "stream",
     "text": [
      "C:\\Users\\Amar Anikethvarma\\AppData\\Local\\Programs\\Python\\Python310\\lib\\site-packages\\sklearn\\svm\\_base.py:1206: ConvergenceWarning: Liblinear failed to converge, increase the number of iterations.\n",
      "  warnings.warn(\n"
     ]
    },
    {
     "name": "stdout",
     "output_type": "stream",
     "text": [
      "Training Classifier...\n",
      "Training Classifier...\n"
     ]
    },
    {
     "name": "stderr",
     "output_type": "stream",
     "text": [
      "C:\\Users\\Amar Anikethvarma\\AppData\\Local\\Programs\\Python\\Python310\\lib\\site-packages\\sklearn\\svm\\_base.py:1206: ConvergenceWarning: Liblinear failed to converge, increase the number of iterations.\n",
      "  warnings.warn(\n"
     ]
    },
    {
     "name": "stdout",
     "output_type": "stream",
     "text": [
      "Training Classifier...\n"
     ]
    },
    {
     "name": "stderr",
     "output_type": "stream",
     "text": [
      "C:\\Users\\Amar Anikethvarma\\AppData\\Local\\Programs\\Python\\Python310\\lib\\site-packages\\sklearn\\svm\\_base.py:1206: ConvergenceWarning: Liblinear failed to converge, increase the number of iterations.\n",
      "  warnings.warn(\n"
     ]
    },
    {
     "name": "stdout",
     "output_type": "stream",
     "text": [
      "Training Classifier...\n",
      "Training Classifier...\n"
     ]
    },
    {
     "name": "stderr",
     "output_type": "stream",
     "text": [
      "C:\\Users\\Amar Anikethvarma\\AppData\\Local\\Programs\\Python\\Python310\\lib\\site-packages\\sklearn\\svm\\_base.py:1206: ConvergenceWarning: Liblinear failed to converge, increase the number of iterations.\n",
      "  warnings.warn(\n"
     ]
    },
    {
     "name": "stdout",
     "output_type": "stream",
     "text": [
      "Training Classifier...\n",
      "Training Classifier...\n",
      "Mean of cross-validations (Accuracy, Precision, Recall, Fscore):  [0.85994398 0.85328215 0.86728051 0.85465633]\n"
     ]
    },
    {
     "name": "stderr",
     "output_type": "stream",
     "text": [
      "C:\\Users\\Amar Anikethvarma\\AppData\\Local\\Programs\\Python\\Python310\\lib\\site-packages\\sklearn\\svm\\_base.py:1206: ConvergenceWarning: Liblinear failed to converge, increase the number of iterations.\n",
      "  warnings.warn(\n"
     ]
    }
   ],
   "source": [
    "#rawData = []          # the filtered data from the dataset file (should be 21000 samples)\n",
    "#preprocessedData = [] # the preprocessed reviews (just to see how your preprocessing is doing)\n",
    "trainData = []        # the training data as a percentage of the total dataset (currently 80%, or 16800 samples)\n",
    "testData = []    \n",
    "\n",
    "#print(\"Now %d rawData, %d trainData, %d testData\" % (len(rawData), len(trainData), len(testData)),\n",
    " #     \"Preparing the dataset...\",sep='\\n')\n",
    "\n",
    "# We split the raw dataset into a set of training data and a set of test data (80/20)\n",
    "print(\"Now %d rawData, %d trainData, %d testData\" % (len(rawData), len(trainData), len(testData)),\n",
    "      \"Preparing training and test data...\",sep='\\n')\n",
    "splitData(0.8)\n",
    "# We print the number of training samples and the number of features\n",
    "print(\"Now %d rawData, %d trainData, %d testData\" % (len(rawData), len(trainData), len(testData)),\n",
    "      \"Training Samples: \", len(trainData), \"Features: \", len(featureDict), sep='\\n')\n",
    "print(\"Mean of cross-validations (Accuracy, Precision, Recall, Fscore): \", crossValidate(trainData, 10))"
   ]
  },
  {
   "cell_type": "code",
   "execution_count": 51,
   "metadata": {
    "colab": {
     "base_uri": "https://localhost:8080/"
    },
    "executionInfo": {
     "elapsed": 10,
     "status": "ok",
     "timestamp": 1649269975863,
     "user": {
      "displayName": "Aniketh Professional",
      "userId": "18283959475499289192"
     },
     "user_tz": -330
    },
    "id": "Umwo3TtQDNhO",
    "outputId": "aca96402-4cbc-461d-f095-89483bfd49cd"
   },
   "outputs": [
    {
     "name": "stdout",
     "output_type": "stream",
     "text": [
      "3.10.4 (tags/v3.10.4:9d38120, Mar 23 2022, 23:13:41) [MSC v.1929 64 bit (AMD64)]\n",
      "3.7\n"
     ]
    }
   ],
   "source": [
    "import sys\n",
    "print(sys.version)\n",
    "print(nltk.__version__)"
   ]
  },
  {
   "cell_type": "code",
   "execution_count": 52,
   "metadata": {
    "executionInfo": {
     "elapsed": 9,
     "status": "ok",
     "timestamp": 1649269975863,
     "user": {
      "displayName": "Aniketh Professional",
      "userId": "18283959475499289192"
     },
     "user_tz": -330
    },
    "id": "jicI83EaD6cu"
   },
   "outputs": [],
   "source": [
    "rawData = data4[[\"REVIEW_TEXT\", \"VERIFIED_PURCHASE\", \"PRODUCT_CATEGORY\", \"LABEL\", \"RATING\"]]\n",
    "rawData = [tuple(x) for x in rawData.values]\n",
    "# print(rawData[0:5])"
   ]
  },
  {
   "cell_type": "code",
   "execution_count": 53,
   "metadata": {
    "executionInfo": {
     "elapsed": 9,
     "status": "ok",
     "timestamp": 1649269975863,
     "user": {
      "displayName": "Aniketh Professional",
      "userId": "18283959475499289192"
     },
     "user_tz": -330
    },
    "id": "1TO3LvVrFhg4"
   },
   "outputs": [],
   "source": [
    "def splitData(percentage):\n",
    "    dataSamples = len(rawData)\n",
    "    halfOfData = int(len(rawData)/2)\n",
    "    trainingSamples = int((percentage*dataSamples)/2)\n",
    "    for (Text, verified_Purchase, product_Category, Label, Rating) in rawData[:trainingSamples] + rawData[halfOfData:halfOfData+trainingSamples]:\n",
    "        trainData.append((toFeatureVector(preProcess(Text), verified_Purchase, product_Category, Label), Rating))\n",
    "    for (Text, verified_Purchase, product_Category, Label, Rating) in rawData[trainingSamples:halfOfData] + rawData[halfOfData+trainingSamples:]:\n",
    "        testData.append((toFeatureVector(preProcess(Text), verified_Purchase, product_Category, Label), Rating))"
   ]
  },
  {
   "cell_type": "code",
   "execution_count": 54,
   "metadata": {
    "executionInfo": {
     "elapsed": 428,
     "status": "ok",
     "timestamp": 1649271136598,
     "user": {
      "displayName": "Aniketh Professional",
      "userId": "18283959475499289192"
     },
     "user_tz": -330
    },
    "id": "GPbxK3ykFq4m"
   },
   "outputs": [],
   "source": [
    "featureDict = {} # A global dictionary of features\n",
    "\n",
    "def toFeatureVector(Rating, verified_Purchase, product_Category, tokens):\n",
    "    localDict = {}\n",
    "    \n",
    "#Labels\n",
    "\n",
    "    # featureDict[\"L\"] = 1   \n",
    "    # localDict[\"L\"] = labels\n",
    "    featureDict[\"R\"] = 1   \n",
    "    localDict[\"R\"] = Rating\n",
    "\n",
    "\n",
    "#Verified_Purchase\n",
    "  \n",
    "    featureDict[\"VP\"] = 1\n",
    "            \n",
    "    if verified_Purchase == \"N\":\n",
    "        localDict[\"VP\"] = 0\n",
    "    else:\n",
    "        localDict[\"VP\"] = 1\n",
    "\n",
    "#Product_Category\n",
    "\n",
    "    \n",
    "    if product_Category not in featureDict:\n",
    "        featureDict[product_Category] = 1\n",
    "    else:\n",
    "        featureDict[product_Category] = +1\n",
    "            \n",
    "    if product_Category not in localDict:\n",
    "        localDict[product_Category] = 1\n",
    "    else:\n",
    "        localDict[product_Category] = +1\n",
    "            \n",
    "            \n",
    "#Text        \n",
    "\n",
    "    for token in tokens:\n",
    "        if token not in featureDict:\n",
    "            featureDict[token] = 1\n",
    "        else:\n",
    "            featureDict[token] = +1\n",
    "            \n",
    "        if token not in localDict:\n",
    "            localDict[token] = 1\n",
    "        else:\n",
    "            localDict[token] = +1\n",
    "    \n",
    "    return localDict"
   ]
  },
  {
   "cell_type": "code",
   "execution_count": 55,
   "metadata": {
    "colab": {
     "base_uri": "https://localhost:8080/"
    },
    "executionInfo": {
     "elapsed": 20255,
     "status": "ok",
     "timestamp": 1649270778702,
     "user": {
      "displayName": "Aniketh Professional",
      "userId": "18283959475499289192"
     },
     "user_tz": -330
    },
    "id": "2CdeF6SQF3di",
    "outputId": "447a0057-5af2-4821-c27d-0f223feca6a9"
   },
   "outputs": [],
   "source": [
    "# trainData = []        # the training data as a percentage of the total dataset (currently 80%, or 16800 samples)\n",
    "# testData = []    \n",
    "\n",
    "# #print(\"Now %d rawData, %d trainData, %d testData\" % (len(rawData), len(trainData), len(testData)),\n",
    "#  #     \"Preparing the dataset...\",sep='\\n')\n",
    "\n",
    "# # We split the raw dataset into a set of training data and a set of test data (80/20)\n",
    "# print(\"Now %d rawData, %d trainData, %d testData\" % (len(rawData), len(trainData), len(testData)),\n",
    "#       \"Preparing training and test data...\",sep='\\n')\n",
    "# splitData(0.8)\n",
    "# # We print the number of training samples and the number of features\n",
    "# print(\"Now %d rawData, %d trainData, %d testData\" % (len(rawData), len(trainData), len(testData)),\n",
    "#       \"Training Samples: \", len(trainData), \"Features: \", len(featureDict), sep='\\n')\n",
    "# print(\"Mean of cross-validations (Accuracy, Precision, Recall, Fscore): \", crossValidate(trainData, 20))"
   ]
  },
  {
   "cell_type": "code",
   "execution_count": 56,
   "metadata": {
    "colab": {
     "base_uri": "https://localhost:8080/"
    },
    "executionInfo": {
     "elapsed": 1200,
     "status": "ok",
     "timestamp": 1649270779900,
     "user": {
      "displayName": "Aniketh Professional",
      "userId": "18283959475499289192"
     },
     "user_tz": -330
    },
    "id": "30bVTDuNF_JZ",
    "outputId": "76b3b4b7-82b1-4ef8-faef-b8fffa45e0bf"
   },
   "outputs": [
    {
     "name": "stdout",
     "output_type": "stream",
     "text": [
      "Training Classifier...\n",
      "accuracy:  0.8458961474036851\n",
      "Precision:  0.8446766561514195\n",
      "Recall:  0.8458961474036851\n",
      "f1-score:  0.8450925090252708\n"
     ]
    },
    {
     "name": "stderr",
     "output_type": "stream",
     "text": [
      "C:\\Users\\Amar Anikethvarma\\AppData\\Local\\Programs\\Python\\Python310\\lib\\site-packages\\sklearn\\svm\\_base.py:1206: ConvergenceWarning: Liblinear failed to converge, increase the number of iterations.\n",
      "  warnings.warn(\n"
     ]
    }
   ],
   "source": [
    "classifier = trainClassifier(trainData)\n",
    "predictions = predictLabels(testData, classifier)\n",
    "true_labels = list(map(lambda d: d[1], testData))\n",
    "a = accuracy_score(true_labels, predictions)\n",
    "p, r, f1, _ = precision_recall_fscore_support(true_labels, predictions, average='macro')\n",
    "print(\"accuracy: \", a)\n",
    "print(\"Precision: \", p)\n",
    "print(\"Recall: \", a)\n",
    "print(\"f1-score: \", f1)"
   ]
  },
  {
   "cell_type": "code",
   "execution_count": 57,
   "metadata": {
    "colab": {
     "base_uri": "https://localhost:8080/"
    },
    "executionInfo": {
     "elapsed": 366,
     "status": "ok",
     "timestamp": 1649270355410,
     "user": {
      "displayName": "Aniketh Professional",
      "userId": "18283959475499289192"
     },
     "user_tz": -330
    },
    "id": "GuBqjNsTKdMV",
    "outputId": "038b3144-66b0-4f1b-a8ce-392adc992bac"
   },
   "outputs": [
    {
     "name": "stdout",
     "output_type": "stream",
     "text": [
      "({'R': ['this card', 'card hilarious', 'hilarious i', 'i send', 'send family', 'family friend', 'friend great', 'great laugh', 'laugh definitely', 'definitely great', 'great way', 'way show', 'show attention', 'attention fun', 'this', 'card', 'hilarious', 'i', 'send', 'family', 'friend', 'great', 'laugh', 'definitely', 'great', 'way', 'show', 'attention', 'fun'], 'VP': 0, 'Office Products': 1, '1': 1}, 1)\n"
     ]
    }
   ],
   "source": [
    "print(testData[0])"
   ]
  },
  {
   "cell_type": "code",
   "execution_count": 67,
   "metadata": {
    "colab": {
     "base_uri": "https://localhost:8080/"
    },
    "executionInfo": {
     "elapsed": 1,
     "status": "ok",
     "timestamp": 1649270150802,
     "user": {
      "displayName": "Aniketh Professional",
      "userId": "18283959475499289192"
     },
     "user_tz": -330
    },
    "id": "SLHjwCwVIza6",
    "outputId": "25a7bffa-b930-4ebe-9b53-48cdf15f5c77"
   },
   "outputs": [
    {
     "name": "stdout",
     "output_type": "stream",
     "text": [
      "[1, 1, 1, 1, 0, 1, 1, 1, 1, 1] [1, 1, 1, 1, 1, 1, 1, 1, 1, 1]\n"
     ]
    }
   ],
   "source": [
    "print(predictions[0:10], true_labels[0:10])"
   ]
  },
  {
   "cell_type": "code",
   "execution_count": 123,
   "metadata": {
    "executionInfo": {
     "elapsed": 365,
     "status": "ok",
     "timestamp": 1649276484842,
     "user": {
      "displayName": "Aniketh Professional",
      "userId": "18283959475499289192"
     },
     "user_tz": -330
    },
    "id": "7m0TwCK1K18J"
   },
   "outputs": [],
   "source": [
    "sample_text = \"xxxx :::)))\"\n",
    "sample_rating = '5'\n",
    "xfTestData = []\n",
    "xfTestData.append((toFeatureVector('4', 'Y', 'PC', preProcess(sample_text)),sample_rating))"
   ]
  },
  {
   "cell_type": "code",
   "execution_count": 124,
   "metadata": {
    "executionInfo": {
     "elapsed": 2,
     "status": "ok",
     "timestamp": 1649276486420,
     "user": {
      "displayName": "Aniketh Professional",
      "userId": "18283959475499289192"
     },
     "user_tz": -330
    },
    "id": "dP_WAxUCOltb"
   },
   "outputs": [],
   "source": [
    "predictionX = predictLabels(xfTestData, classifier)"
   ]
  },
  {
   "cell_type": "code",
   "execution_count": 125,
   "metadata": {
    "colab": {
     "base_uri": "https://localhost:8080/"
    },
    "executionInfo": {
     "elapsed": 2,
     "status": "ok",
     "timestamp": 1649276487923,
     "user": {
      "displayName": "Aniketh Professional",
      "userId": "18283959475499289192"
     },
     "user_tz": -330
    },
    "id": "ZWgU5hwwOsws",
    "outputId": "26187738-0cf1-4784-dca2-5f30982b0784"
   },
   "outputs": [
    {
     "data": {
      "text/plain": [
       "[1]"
      ]
     },
     "execution_count": 125,
     "metadata": {},
     "output_type": "execute_result"
    }
   ],
   "source": [
    "predictionX"
   ]
  },
  {
   "cell_type": "code",
   "execution_count": 62,
   "metadata": {
    "executionInfo": {
     "elapsed": 1,
     "status": "ok",
     "timestamp": 1649276489347,
     "user": {
      "displayName": "Aniketh Professional",
      "userId": "18283959475499289192"
     },
     "user_tz": -330
    },
    "id": "Tgwz8MLDXYfp"
   },
   "outputs": [],
   "source": [
    "import pickle"
   ]
  },
  {
   "cell_type": "code",
   "execution_count": 63,
   "metadata": {
    "executionInfo": {
     "elapsed": 511,
     "status": "ok",
     "timestamp": 1649276491276,
     "user": {
      "displayName": "Aniketh Professional",
      "userId": "18283959475499289192"
     },
     "user_tz": -330
    },
    "id": "_66shSyHXcf9"
   },
   "outputs": [],
   "source": [
    "with open('predictor.pickle', 'wb') as f:\n",
    "  pickle.dump(predictLabels, f)\n",
    "\n",
    "with open('classifier.pickle', 'wb') as f:\n",
    "  pickle.dump(classifier, f)"
   ]
  },
  {
   "cell_type": "code",
   "execution_count": 64,
   "metadata": {
    "executionInfo": {
     "elapsed": 1,
     "status": "ok",
     "timestamp": 1649276491790,
     "user": {
      "displayName": "Aniketh Professional",
      "userId": "18283959475499289192"
     },
     "user_tz": -330
    },
    "id": "vUqTEkeKf7S9"
   },
   "outputs": [],
   "source": [
    "DATA_PATH = \"/content\"\n",
    "# predictor_pickle = open(DATA_PATH+'/predictor.pickle','rb')\n",
    "predictor_pickle = open('predictor.pickle','rb')\n",
    "best_model2 = pickle.load(predictor_pickle)\n",
    "\n",
    "# classifier_pickle = open(DATA_PATH+'/classifier.pickle','rb')\n",
    "classifier_pickle = open('classifier.pickle','rb')\n",
    "\n",
    "best_model3 = pickle.load(classifier_pickle)"
   ]
  },
  {
   "cell_type": "code",
   "execution_count": 65,
   "metadata": {
    "colab": {
     "base_uri": "https://localhost:8080/"
    },
    "executionInfo": {
     "elapsed": 460,
     "status": "ok",
     "timestamp": 1649276494004,
     "user": {
      "displayName": "Aniketh Professional",
      "userId": "18283959475499289192"
     },
     "user_tz": -330
    },
    "id": "ppa0RCgOgBzC",
    "outputId": "40bcb0ba-31b5-467e-ad06-d7bbfe34147b"
   },
   "outputs": [
    {
     "data": {
      "text/plain": [
       "[0]"
      ]
     },
     "execution_count": 65,
     "metadata": {},
     "output_type": "execute_result"
    }
   ],
   "source": [
    "best_model2(xfTestData, best_model3)"
   ]
  },
  {
   "cell_type": "code",
   "execution_count": null,
   "metadata": {},
   "outputs": [],
   "source": []
  },
  {
   "cell_type": "code",
   "execution_count": null,
   "metadata": {},
   "outputs": [],
   "source": []
  }
 ],
 "metadata": {
  "colab": {
   "authorship_tag": "ABX9TyMieBJvtPeWI24Atc5Zrk/N",
   "collapsed_sections": [],
   "name": "noice code.ipynb",
   "provenance": []
  },
  "kernelspec": {
   "display_name": "Python 3 (ipykernel)",
   "language": "python",
   "name": "python3"
  },
  "language_info": {
   "codemirror_mode": {
    "name": "ipython",
    "version": 3
   },
   "file_extension": ".py",
   "mimetype": "text/x-python",
   "name": "python",
   "nbconvert_exporter": "python",
   "pygments_lexer": "ipython3",
   "version": "3.10.4"
  }
 },
 "nbformat": 4,
 "nbformat_minor": 1
}
