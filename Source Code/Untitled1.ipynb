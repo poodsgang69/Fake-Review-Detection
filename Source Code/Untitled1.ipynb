{
 "cells": [
  {
   "cell_type": "code",
   "execution_count": 1,
   "id": "851b1d13",
   "metadata": {},
   "outputs": [],
   "source": [
    "# !pip install import_ipynb"
   ]
  },
  {
   "cell_type": "code",
   "execution_count": 2,
   "id": "d5521103",
   "metadata": {},
   "outputs": [],
   "source": [
    "import import_ipynb\n"
   ]
  },
  {
   "cell_type": "code",
   "execution_count": 40,
   "id": "b0e69245",
   "metadata": {},
   "outputs": [],
   "source": [
    "import pickle\n",
    "# import noice_code\n",
    "\n",
    "# import noice_code\n",
    "DATA_PATH = \"/content\"\n",
    "# predictor_pickle = open(DATA_PATH+'/predictor.pickle','rb')\n",
    "predictor_pickle = open('predictor.pickle','rb')\n",
    "best_model2 = pickle.load(predictor_pickle)\n",
    "\n",
    "# classifier_pickle = open(DATA_PATH+'/classifier.pickle','rb')\n",
    "classifier_pickle = open('classifier.pickle','rb')\n",
    "\n",
    "# best_model3 = pickle.load(classifier_pickle)"
   ]
  },
  {
   "cell_type": "code",
   "execution_count": 47,
   "id": "c1852387",
   "metadata": {},
   "outputs": [],
   "source": [
    "sample_text = \"xxx\"\n",
    "sample_rating = '1'\n",
    "xfTestData = []\n",
    "xfTestData.append((noice_code.toFeatureVector('4', 'Y', 'PC', noice_code.preProcess(sample_text)),sample_rating))"
   ]
  },
  {
   "cell_type": "code",
   "execution_count": 48,
   "id": "1cdf83dc",
   "metadata": {},
   "outputs": [
    {
     "data": {
      "text/plain": [
       "<SklearnClassifier(Pipeline(steps=[('svc', LinearSVC(C=0.01))]))>"
      ]
     },
     "execution_count": 48,
     "metadata": {},
     "output_type": "execute_result"
    }
   ],
   "source": [
    "# classifier = noice_code.trainClassifier(noice_code.trainData)\n",
    "\n",
    "predictionX = noice_code.predictLabels(xfTestData, noice_code.classifier)\n",
    "noice_code.classifier"
   ]
  },
  {
   "cell_type": "code",
   "execution_count": 49,
   "id": "585b67ac",
   "metadata": {},
   "outputs": [
    {
     "data": {
      "text/plain": [
       "[0]"
      ]
     },
     "execution_count": 49,
     "metadata": {},
     "output_type": "execute_result"
    }
   ],
   "source": [
    "predictionX"
   ]
  },
  {
   "cell_type": "code",
   "execution_count": 7,
   "id": "7470b103",
   "metadata": {},
   "outputs": [
    {
     "name": "stderr",
     "output_type": "stream",
     "text": [
      "[nltk_data] Downloading package punkt to C:\\Users\\Amar\n",
      "[nltk_data]     Anikethvarma\\AppData\\Roaming\\nltk_data...\n",
      "[nltk_data]   Package punkt is already up-to-date!\n"
     ]
    },
    {
     "data": {
      "text/plain": [
       "True"
      ]
     },
     "execution_count": 7,
     "metadata": {},
     "output_type": "execute_result"
    }
   ],
   "source": [
    "import nltk\n",
    "import string\n",
    "from nltk.corpus import stopwords\n",
    "from nltk.tokenize import RegexpTokenizer\n",
    "from nltk.stem import WordNetLemmatizer\n",
    "from sklearn.feature_extraction.text import TfidfVectorizer\n",
    "from nltk.util import ngrams\n",
    "from nltk.tokenize import word_tokenize\n",
    "nltk.download('punkt')"
   ]
  },
  {
   "cell_type": "code",
   "execution_count": 8,
   "id": "f6b6678a",
   "metadata": {},
   "outputs": [],
   "source": [
    "featureDict = {} # A global dictionary of features\n",
    "\n",
    "def toFeatureVector(Rating, verified_Purchase, product_Category, tokens):\n",
    "    localDict = {}\n",
    "    \n",
    "#Labels\n",
    "\n",
    "    # featureDict[\"L\"] = 1   \n",
    "    # localDict[\"L\"] = labels\n",
    "    featureDict[\"R\"] = 1   \n",
    "    localDict[\"R\"] = Rating\n",
    "\n",
    "\n",
    "#Verified_Purchase\n",
    "  \n",
    "    featureDict[\"VP\"] = 1\n",
    "            \n",
    "    if verified_Purchase == \"N\":\n",
    "        localDict[\"VP\"] = 0\n",
    "    else:\n",
    "        localDict[\"VP\"] = 1\n",
    "\n",
    "#Product_Category\n",
    "\n",
    "    \n",
    "    if product_Category not in featureDict:\n",
    "        featureDict[product_Category] = 1\n",
    "    else:\n",
    "        featureDict[product_Category] = +1\n",
    "            \n",
    "    if product_Category not in localDict:\n",
    "        localDict[product_Category] = 1\n",
    "    else:\n",
    "        localDict[product_Category] = +1\n",
    "            \n",
    "            \n",
    "#Text        \n",
    "\n",
    "    for token in tokens:\n",
    "        if token not in featureDict:\n",
    "            featureDict[token] = 1\n",
    "        else:\n",
    "            featureDict[token] = +1\n",
    "            \n",
    "        if token not in localDict:\n",
    "            localDict[token] = 1\n",
    "        else:\n",
    "            localDict[token] = +1\n",
    "    \n",
    "    return localDict"
   ]
  },
  {
   "cell_type": "code",
   "execution_count": 9,
   "id": "e3084bc8",
   "metadata": {},
   "outputs": [],
   "source": [
    "def preProcess(text):\n",
    "    # Should return a list of tokens\n",
    "    lemmatizer = WordNetLemmatizer()\n",
    "    filtered_tokens=[]\n",
    "    lemmatized_tokens = []\n",
    "    stop_words = set(stopwords.words('english'))\n",
    "    text = text.translate(table)\n",
    "    for w in text.split(\" \"):\n",
    "        if w not in stop_words:\n",
    "            lemmatized_tokens.append(lemmatizer.lemmatize(w.lower()))\n",
    "        filtered_tokens = [' '.join(l) for l in nltk.bigrams(lemmatized_tokens)] + lemmatized_tokens\n",
    "    return filtered_tokens"
   ]
  },
  {
   "cell_type": "code",
   "execution_count": 10,
   "id": "a03a7d0d",
   "metadata": {},
   "outputs": [
    {
     "ename": "NameError",
     "evalue": "name 'table' is not defined",
     "output_type": "error",
     "traceback": [
      "\u001b[1;31m---------------------------------------------------------------------------\u001b[0m",
      "\u001b[1;31mNameError\u001b[0m                                 Traceback (most recent call last)",
      "Input \u001b[1;32mIn [10]\u001b[0m, in \u001b[0;36m<cell line: 4>\u001b[1;34m()\u001b[0m\n\u001b[0;32m      2\u001b[0m sample_rating \u001b[38;5;241m=\u001b[39m \u001b[38;5;124m'\u001b[39m\u001b[38;5;124m1\u001b[39m\u001b[38;5;124m'\u001b[39m\n\u001b[0;32m      3\u001b[0m xfTestData \u001b[38;5;241m=\u001b[39m []\n\u001b[1;32m----> 4\u001b[0m xfTestData\u001b[38;5;241m.\u001b[39mappend((toFeatureVector(\u001b[38;5;124m'\u001b[39m\u001b[38;5;124m4\u001b[39m\u001b[38;5;124m'\u001b[39m, \u001b[38;5;124m'\u001b[39m\u001b[38;5;124mN\u001b[39m\u001b[38;5;124m'\u001b[39m, \u001b[38;5;124m'\u001b[39m\u001b[38;5;124mPC\u001b[39m\u001b[38;5;124m'\u001b[39m, \u001b[43mpreProcess\u001b[49m\u001b[43m(\u001b[49m\u001b[43msample_text\u001b[49m\u001b[43m)\u001b[49m),sample_rating))\n\u001b[0;32m      6\u001b[0m best_model2(xfTestData, best_model3)\n",
      "Input \u001b[1;32mIn [9]\u001b[0m, in \u001b[0;36mpreProcess\u001b[1;34m(text)\u001b[0m\n\u001b[0;32m      5\u001b[0m lemmatized_tokens \u001b[38;5;241m=\u001b[39m []\n\u001b[0;32m      6\u001b[0m stop_words \u001b[38;5;241m=\u001b[39m \u001b[38;5;28mset\u001b[39m(stopwords\u001b[38;5;241m.\u001b[39mwords(\u001b[38;5;124m'\u001b[39m\u001b[38;5;124menglish\u001b[39m\u001b[38;5;124m'\u001b[39m))\n\u001b[1;32m----> 7\u001b[0m text \u001b[38;5;241m=\u001b[39m text\u001b[38;5;241m.\u001b[39mtranslate(\u001b[43mtable\u001b[49m)\n\u001b[0;32m      8\u001b[0m \u001b[38;5;28;01mfor\u001b[39;00m w \u001b[38;5;129;01min\u001b[39;00m text\u001b[38;5;241m.\u001b[39msplit(\u001b[38;5;124m\"\u001b[39m\u001b[38;5;124m \u001b[39m\u001b[38;5;124m\"\u001b[39m):\n\u001b[0;32m      9\u001b[0m     \u001b[38;5;28;01mif\u001b[39;00m w \u001b[38;5;129;01mnot\u001b[39;00m \u001b[38;5;129;01min\u001b[39;00m stop_words:\n",
      "\u001b[1;31mNameError\u001b[0m: name 'table' is not defined"
     ]
    }
   ],
   "source": [
    "sample_text = \"really nice product. it works so well :)\"\n",
    "sample_rating = '1'\n",
    "xfTestData = []\n",
    "xfTestData.append((toFeatureVector('4', 'N', 'PC', preProcess(sample_text)),sample_rating))\n",
    "\n",
    "best_model2(xfTestData, best_model3)"
   ]
  },
  {
   "cell_type": "code",
   "execution_count": null,
   "id": "e9a8c065",
   "metadata": {},
   "outputs": [],
   "source": []
  }
 ],
 "metadata": {
  "kernelspec": {
   "display_name": "Python 3 (ipykernel)",
   "language": "python",
   "name": "python3"
  },
  "language_info": {
   "codemirror_mode": {
    "name": "ipython",
    "version": 3
   },
   "file_extension": ".py",
   "mimetype": "text/x-python",
   "name": "python",
   "nbconvert_exporter": "python",
   "pygments_lexer": "ipython3",
   "version": "3.10.4"
  }
 },
 "nbformat": 4,
 "nbformat_minor": 5
}
